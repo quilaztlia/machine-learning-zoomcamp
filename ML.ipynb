{
  "nbformat": 4,
  "nbformat_minor": 0,
  "metadata": {
    "colab": {
      "provenance": [],
      "authorship_tag": "ABX9TyPp3A7tYurzw/KklTfPmJph",
      "include_colab_link": true
    },
    "kernelspec": {
      "name": "python3",
      "display_name": "Python 3"
    },
    "language_info": {
      "name": "python"
    }
  },
  "cells": [
    {
      "cell_type": "markdown",
      "metadata": {
        "id": "view-in-github",
        "colab_type": "text"
      },
      "source": [
        "<a href=\"https://colab.research.google.com/github/quilaztlia/machine-learning-zoomcamp/blob/main/ML.ipynb\" target=\"_parent\"><img src=\"https://colab.research.google.com/assets/colab-badge.svg\" alt=\"Open In Colab\"/></a>"
      ]
    },
    {
      "cell_type": "code",
      "execution_count": 7,
      "metadata": {
        "colab": {
          "base_uri": "https://localhost:8080/"
        },
        "id": "BtOoT9tmKdu_",
        "outputId": "29910711-8848-4354-d75b-78d75902523b"
      },
      "outputs": [
        {
          "output_type": "stream",
          "name": "stdout",
          "text": [
            "2.2.2\n",
            "Index(['engine_displacement', 'num_cylinders', 'horsepower', 'vehicle_weight',\n",
            "       'acceleration', 'model_year', 'origin', 'fuel_type', 'drivetrain',\n",
            "       'num_doors', 'fuel_efficiency_mpg'],\n",
            "      dtype='object')\n",
            "   engine_displacement  num_cylinders  horsepower  vehicle_weight  \\\n",
            "0                  170            3.0       159.0     3413.433759   \n",
            "1                  130            5.0        97.0     3149.664934   \n",
            "2                  170            NaN        78.0     3079.038997   \n",
            "3                  220            4.0         NaN     2542.392402   \n",
            "4                  210            1.0       140.0     3460.870990   \n",
            "\n",
            "   acceleration  model_year  origin fuel_type         drivetrain  num_doors  \\\n",
            "0          17.7        2003  Europe  Gasoline    All-wheel drive        0.0   \n",
            "1          17.8        2007     USA  Gasoline  Front-wheel drive        0.0   \n",
            "2          15.1        2018  Europe  Gasoline  Front-wheel drive        0.0   \n",
            "3          20.2        2009     USA    Diesel    All-wheel drive        2.0   \n",
            "4          14.4        2009  Europe  Gasoline    All-wheel drive        2.0   \n",
            "\n",
            "   fuel_efficiency_mpg  \n",
            "0            13.231729  \n",
            "1            13.688217  \n",
            "2            14.246341  \n",
            "3            16.912736  \n",
            "4            12.488369  \n"
          ]
        }
      ],
      "source": [
        "import pandas as pd\n",
        "print(pd.__version__)\n",
        "\n",
        "database = pd.read_csv('ML/car_fuel_efficiency.csv');\n",
        "\n",
        "print(database.columns)\n",
        "\n",
        "print(database.head())"
      ]
    },
    {
      "cell_type": "code",
      "source": [
        "# Q2. Records count How many records are in the dataset?\n",
        "\n",
        "print(database.info())"
      ],
      "metadata": {
        "colab": {
          "base_uri": "https://localhost:8080/"
        },
        "id": "FtmaCqrw1koE",
        "outputId": "c21cf205-46ce-452b-bd27-8f7ea2dc615e"
      },
      "execution_count": null,
      "outputs": [
        {
          "output_type": "stream",
          "name": "stdout",
          "text": [
            "<class 'pandas.core.frame.DataFrame'>\n",
            "RangeIndex: 9704 entries, 0 to 9703\n",
            "Data columns (total 11 columns):\n",
            " #   Column               Non-Null Count  Dtype  \n",
            "---  ------               --------------  -----  \n",
            " 0   engine_displacement  9704 non-null   int64  \n",
            " 1   num_cylinders        9222 non-null   float64\n",
            " 2   horsepower           8996 non-null   float64\n",
            " 3   vehicle_weight       9704 non-null   float64\n",
            " 4   acceleration         8774 non-null   float64\n",
            " 5   model_year           9704 non-null   int64  \n",
            " 6   origin               9704 non-null   object \n",
            " 7   fuel_type            9704 non-null   object \n",
            " 8   drivetrain           9704 non-null   object \n",
            " 9   num_doors            9202 non-null   float64\n",
            " 10  fuel_efficiency_mpg  9704 non-null   float64\n",
            "dtypes: float64(6), int64(2), object(3)\n",
            "memory usage: 834.1+ KB\n",
            "None\n"
          ]
        }
      ]
    },
    {
      "cell_type": "code",
      "source": [
        "for column in database.columns:\n",
        "    print(type(column))\n",
        "    print(column + ' :'  + str( database[column].value_counts()))\n",
        "    #print(column + ' :'  + str( database[column].count(x => x !=0)))"
      ],
      "metadata": {
        "colab": {
          "base_uri": "https://localhost:8080/"
        },
        "id": "YkmTxi_6-4bx",
        "outputId": "2fe1b76b-0113-4317-f050-e32b3a0856c5"
      },
      "execution_count": null,
      "outputs": [
        {
          "output_type": "stream",
          "name": "stdout",
          "text": [
            "<class 'str'>\n",
            "engine_displacement :engine_displacement\n",
            "190    816\n",
            "200    805\n",
            "210    770\n",
            "220    729\n",
            "180    719\n",
            "170    662\n",
            "230    617\n",
            "160    559\n",
            "240    550\n",
            "250    463\n",
            "150    438\n",
            "140    384\n",
            "260    339\n",
            "270    296\n",
            "130    290\n",
            "280    218\n",
            "120    217\n",
            "110    173\n",
            "290    146\n",
            "300    108\n",
            "100     79\n",
            "310     77\n",
            "90      53\n",
            "80      43\n",
            "320     33\n",
            "330     27\n",
            "70      25\n",
            "60      19\n",
            "350     11\n",
            "340     10\n",
            "50       9\n",
            "40       7\n",
            "30       5\n",
            "370      4\n",
            "380      2\n",
            "10       1\n",
            "Name: count, dtype: int64\n",
            "<class 'str'>\n",
            "num_cylinders :num_cylinders\n",
            "4.0     1858\n",
            "3.0     1792\n",
            "2.0     1395\n",
            "5.0     1376\n",
            "6.0      946\n",
            "1.0      681\n",
            "7.0      537\n",
            "8.0      258\n",
            "0.0      183\n",
            "9.0      115\n",
            "10.0      52\n",
            "11.0      21\n",
            "12.0       6\n",
            "13.0       2\n",
            "Name: count, dtype: int64\n",
            "<class 'str'>\n",
            "horsepower :horsepower\n",
            "152.0    142\n",
            "145.0    141\n",
            "151.0    134\n",
            "148.0    130\n",
            "141.0    130\n",
            "        ... \n",
            "40.0       1\n",
            "57.0       1\n",
            "245.0      1\n",
            "252.0      1\n",
            "61.0       1\n",
            "Name: count, Length: 192, dtype: int64\n",
            "<class 'str'>\n",
            "vehicle_weight :vehicle_weight\n",
            "2908.043477    1\n",
            "3413.433759    1\n",
            "3149.664934    1\n",
            "3079.038997    1\n",
            "2542.392402    1\n",
            "              ..\n",
            "2783.868974    1\n",
            "1967.200421    1\n",
            "3111.810181    1\n",
            "3509.036569    1\n",
            "2714.219310    1\n",
            "Name: count, Length: 9704, dtype: int64\n",
            "<class 'str'>\n",
            "acceleration :acceleration\n",
            "15.6    163\n",
            "15.2    152\n",
            "14.5    147\n",
            "15.8    147\n",
            "15.5    147\n",
            "       ... \n",
            "22.9      1\n",
            "7.3       1\n",
            "6.4       1\n",
            "24.3      1\n",
            "7.8       1\n",
            "Name: count, Length: 162, dtype: int64\n",
            "<class 'str'>\n",
            "model_year :model_year\n",
            "2003    447\n",
            "2002    446\n",
            "2018    443\n",
            "2004    440\n",
            "2021    438\n",
            "2015    435\n",
            "2006    431\n",
            "2010    428\n",
            "2014    427\n",
            "2005    427\n",
            "2012    426\n",
            "2016    424\n",
            "2013    420\n",
            "2019    420\n",
            "2022    419\n",
            "2008    415\n",
            "2007    410\n",
            "2011    404\n",
            "2009    403\n",
            "2020    400\n",
            "2017    391\n",
            "2001    388\n",
            "2023    214\n",
            "2000    208\n",
            "Name: count, dtype: int64\n",
            "<class 'str'>\n",
            "origin :origin\n",
            "Europe    3254\n",
            "Asia      3247\n",
            "USA       3203\n",
            "Name: count, dtype: int64\n",
            "<class 'str'>\n",
            "fuel_type :fuel_type\n",
            "Gasoline    4898\n",
            "Diesel      4806\n",
            "Name: count, dtype: int64\n",
            "<class 'str'>\n",
            "drivetrain :drivetrain\n",
            "All-wheel drive      4876\n",
            "Front-wheel drive    4828\n",
            "Name: count, dtype: int64\n",
            "<class 'str'>\n",
            "num_doors :num_doors\n",
            " 0.0    3551\n",
            " 1.0    2192\n",
            "-1.0    2183\n",
            "-2.0     594\n",
            " 2.0     563\n",
            " 3.0      58\n",
            "-3.0      56\n",
            "-4.0       4\n",
            " 4.0       1\n",
            "Name: count, dtype: int64\n",
            "<class 'str'>\n",
            "fuel_efficiency_mpg :fuel_efficiency_mpg\n",
            "14.884467    1\n",
            "13.231729    1\n",
            "13.688217    1\n",
            "14.246341    1\n",
            "16.912736    1\n",
            "            ..\n",
            "16.175820    1\n",
            "20.504447    1\n",
            "13.386605    1\n",
            "12.298355    1\n",
            "16.823554    1\n",
            "Name: count, Length: 9704, dtype: int64\n"
          ]
        }
      ]
    },
    {
      "cell_type": "code",
      "source": [
        "#Q3. Fuel types: How many fuel types are presented in the dataset?\n",
        "\n",
        "print('fuel_type' + str( database['fuel_type'].value_counts()) )"
      ],
      "metadata": {
        "colab": {
          "base_uri": "https://localhost:8080/"
        },
        "id": "x1sf9zI5B0zJ",
        "outputId": "f37b80c8-842d-4954-ba1a-1f142dad2b12"
      },
      "execution_count": null,
      "outputs": [
        {
          "output_type": "stream",
          "name": "stdout",
          "text": [
            "fuel_typefuel_type\n",
            "Gasoline    4898\n",
            "Diesel      4806\n",
            "Name: count, dtype: int64\n"
          ]
        }
      ]
    },
    {
      "cell_type": "code",
      "source": [
        "#Question 4. How many columns in the dataset have missing values?\n",
        "for c in database.columns:\n",
        "    print(c + 'has missing values: ' + str( len(database[c]) - database[c].count()))"
      ],
      "metadata": {
        "colab": {
          "base_uri": "https://localhost:8080/"
        },
        "id": "KPTBJ-qqCqhC",
        "outputId": "41a2b6b6-bb62-4155-a12f-fcfaf5dbed6d"
      },
      "execution_count": null,
      "outputs": [
        {
          "output_type": "stream",
          "name": "stdout",
          "text": [
            "engine_displacementhas missing values: 0\n",
            "num_cylindershas missing values: 482\n",
            "horsepowerhas missing values: 708\n",
            "vehicle_weighthas missing values: 0\n",
            "accelerationhas missing values: 930\n",
            "model_yearhas missing values: 0\n",
            "originhas missing values: 0\n",
            "fuel_typehas missing values: 0\n",
            "drivetrainhas missing values: 0\n",
            "num_doorshas missing values: 502\n",
            "fuel_efficiency_mpghas missing values: 0\n"
          ]
        }
      ]
    },
    {
      "cell_type": "code",
      "source": [
        "\n",
        "print( database['fuel_efficiency_mpg'].max())"
      ],
      "metadata": {
        "colab": {
          "base_uri": "https://localhost:8080/"
        },
        "id": "bUxQs1CPDNap",
        "outputId": "d609206d-af18-430b-fbd2-0c9d70b37a47"
      },
      "execution_count": null,
      "outputs": [
        {
          "output_type": "stream",
          "name": "stdout",
          "text": [
            "25.96722204888372\n"
          ]
        }
      ]
    },
    {
      "cell_type": "code",
      "source": [
        "#Q5:  What's the maximum fuel efficiency of cars from Asia?\n",
        "print(database.columns)\n",
        "print(database.info())\n",
        "print(database.describe())\n"
      ],
      "metadata": {
        "colab": {
          "base_uri": "https://localhost:8080/"
        },
        "id": "PHuvcWvDDhvU",
        "outputId": "18aa673e-2fed-427b-d854-a572d4e80949"
      },
      "execution_count": null,
      "outputs": [
        {
          "output_type": "stream",
          "name": "stdout",
          "text": [
            "Index(['engine_displacement', 'num_cylinders', 'horsepower', 'vehicle_weight',\n",
            "       'acceleration', 'model_year', 'origin', 'fuel_type', 'drivetrain',\n",
            "       'num_doors', 'fuel_efficiency_mpg'],\n",
            "      dtype='object')\n",
            "<class 'pandas.core.frame.DataFrame'>\n",
            "RangeIndex: 9704 entries, 0 to 9703\n",
            "Data columns (total 11 columns):\n",
            " #   Column               Non-Null Count  Dtype  \n",
            "---  ------               --------------  -----  \n",
            " 0   engine_displacement  9704 non-null   int64  \n",
            " 1   num_cylinders        9222 non-null   float64\n",
            " 2   horsepower           8996 non-null   float64\n",
            " 3   vehicle_weight       9704 non-null   float64\n",
            " 4   acceleration         8774 non-null   float64\n",
            " 5   model_year           9704 non-null   int64  \n",
            " 6   origin               9704 non-null   object \n",
            " 7   fuel_type            9704 non-null   object \n",
            " 8   drivetrain           9704 non-null   object \n",
            " 9   num_doors            9202 non-null   float64\n",
            " 10  fuel_efficiency_mpg  9704 non-null   float64\n",
            "dtypes: float64(6), int64(2), object(3)\n",
            "memory usage: 834.1+ KB\n",
            "None\n",
            "       engine_displacement  num_cylinders   horsepower  vehicle_weight  \\\n",
            "count          9704.000000    9222.000000  8996.000000     9704.000000   \n",
            "mean            199.708368       3.962481   149.657292     3001.280993   \n",
            "std              49.455319       1.999323    29.879555      497.894860   \n",
            "min              10.000000       0.000000    37.000000      952.681761   \n",
            "25%             170.000000       3.000000   130.000000     2666.248985   \n",
            "50%             200.000000       4.000000   149.000000     2993.226296   \n",
            "75%             230.000000       5.000000   170.000000     3334.957039   \n",
            "max             380.000000      13.000000   271.000000     4739.077089   \n",
            "\n",
            "       acceleration   model_year    num_doors  fuel_efficiency_mpg  \n",
            "count   8774.000000  9704.000000  9202.000000          9704.000000  \n",
            "mean      15.021928  2011.484027    -0.006412            14.985243  \n",
            "std        2.510339     6.659808     1.048162             2.556468  \n",
            "min        6.000000  2000.000000    -4.000000             6.200971  \n",
            "25%       13.300000  2006.000000    -1.000000            13.267459  \n",
            "50%       15.000000  2012.000000     0.000000            15.006037  \n",
            "75%       16.700000  2017.000000     1.000000            16.707965  \n",
            "max       24.300000  2023.000000     4.000000            25.967222  \n",
            "5014    25.967222\n",
            "5815    24.971452\n",
            "9387    23.759123\n",
            "560     23.556075\n",
            "8300    23.369176\n",
            "          ...    \n",
            "6049     6.805975\n",
            "7938     6.762991\n",
            "4935     6.695483\n",
            "5037     6.676475\n",
            "4887     6.200971\n",
            "Name: fuel_efficiency_mpg, Length: 9704, dtype: float64\n"
          ]
        }
      ]
    },
    {
      "cell_type": "code",
      "source": [
        "print(database['origin'].value_counts())\n",
        "\n",
        "asia_cars = database[database['origin'] =='Asia']\n",
        "\n",
        "print(asia_cars['fuel_efficiency_mpg'].sort_values(ascending=False))\n",
        "\n",
        "print(asia_cars['fuel_efficiency_mpg'].max())\n",
        "\n",
        "# Check: (query) asia_max = database[database['origin'] =='Asia' and database]"
      ],
      "metadata": {
        "colab": {
          "base_uri": "https://localhost:8080/"
        },
        "id": "4UygyE-AEF4R",
        "outputId": "be830ce1-cfe4-46e7-dfc3-e1ff5be4efb6"
      },
      "execution_count": null,
      "outputs": [
        {
          "output_type": "stream",
          "name": "stdout",
          "text": [
            "origin\n",
            "Europe    3254\n",
            "Asia      3247\n",
            "USA       3203\n",
            "Name: count, dtype: int64\n",
            "9387    23.759123\n",
            "343     23.204566\n",
            "7739    23.033673\n",
            "9401    22.919968\n",
            "5416    22.858156\n",
            "          ...    \n",
            "2890     7.485553\n",
            "9120     7.329314\n",
            "6581     7.317353\n",
            "3891     6.939508\n",
            "1095     6.886245\n",
            "Name: fuel_efficiency_mpg, Length: 3247, dtype: float64\n",
            "23.759122836520497\n"
          ]
        }
      ]
    },
    {
      "cell_type": "code",
      "source": [
        "# Q6. Median value of horsepower\n",
        "print(database.info())\n",
        "print(database.describe())"
      ],
      "metadata": {
        "colab": {
          "base_uri": "https://localhost:8080/"
        },
        "id": "bKWOYp6IGyWM",
        "outputId": "41d6498c-cb3e-432f-8e4d-426fe42d9406"
      },
      "execution_count": null,
      "outputs": [
        {
          "output_type": "stream",
          "name": "stdout",
          "text": [
            "<class 'pandas.core.frame.DataFrame'>\n",
            "RangeIndex: 9704 entries, 0 to 9703\n",
            "Data columns (total 11 columns):\n",
            " #   Column               Non-Null Count  Dtype  \n",
            "---  ------               --------------  -----  \n",
            " 0   engine_displacement  9704 non-null   int64  \n",
            " 1   num_cylinders        9222 non-null   float64\n",
            " 2   horsepower           8996 non-null   float64\n",
            " 3   vehicle_weight       9704 non-null   float64\n",
            " 4   acceleration         8774 non-null   float64\n",
            " 5   model_year           9704 non-null   int64  \n",
            " 6   origin               9704 non-null   object \n",
            " 7   fuel_type            9704 non-null   object \n",
            " 8   drivetrain           9704 non-null   object \n",
            " 9   num_doors            9202 non-null   float64\n",
            " 10  fuel_efficiency_mpg  9704 non-null   float64\n",
            "dtypes: float64(6), int64(2), object(3)\n",
            "memory usage: 834.1+ KB\n",
            "None\n",
            "       engine_displacement  num_cylinders   horsepower  vehicle_weight  \\\n",
            "count          9704.000000    9222.000000  8996.000000     9704.000000   \n",
            "mean            199.708368       3.962481   149.657292     3001.280993   \n",
            "std              49.455319       1.999323    29.879555      497.894860   \n",
            "min              10.000000       0.000000    37.000000      952.681761   \n",
            "25%             170.000000       3.000000   130.000000     2666.248985   \n",
            "50%             200.000000       4.000000   149.000000     2993.226296   \n",
            "75%             230.000000       5.000000   170.000000     3334.957039   \n",
            "max             380.000000      13.000000   271.000000     4739.077089   \n",
            "\n",
            "       acceleration   model_year    num_doors  fuel_efficiency_mpg  \n",
            "count   8774.000000  9704.000000  9202.000000          9704.000000  \n",
            "mean      15.021928  2011.484027    -0.006412            14.985243  \n",
            "std        2.510339     6.659808     1.048162             2.556468  \n",
            "min        6.000000  2000.000000    -4.000000             6.200971  \n",
            "25%       13.300000  2006.000000    -1.000000            13.267459  \n",
            "50%       15.000000  2012.000000     0.000000            15.006037  \n",
            "75%       16.700000  2017.000000     1.000000            16.707965  \n",
            "max       24.300000  2023.000000     4.000000            25.967222  \n"
          ]
        }
      ]
    },
    {
      "cell_type": "code",
      "source": [
        "horsepower = database['horsepower'].sort_values(ascending=True)\n",
        "print('isna: '+ str(horsepower.isna().sum())) #isnull\n",
        "\n",
        "median_horsepower = len(horsepower)/2\n",
        "print('Quotient: ' + str(median_horsepower))\n",
        "print('Median: ' + str(horsepower[median_horsepower]))\n",
        "print( 'giveMedian: ' + str(giveMedian(horsepower)) )\n",
        "# Original Median: 104.0\n",
        "\n",
        "print(horsepower.value_counts(ascending=False))\n",
        "\n",
        "\n",
        "fill = horsepower.fillna(152.0)\n",
        "print('horspowefillna: ' + str(fill.isna().sum()))\n",
        "fillsorted = fill.sort_values(ascending=True)\n",
        "print(fillsorted.value_counts(ascending=False))\n",
        "median_horsepowerFillna = len(fillsorted)/2\n",
        "print('Quotient: ' + str(median_horsepowerFillna))\n",
        "print('Median: ' + str(fillsorted[median_horsepowerFillna]))\n",
        "print( 'giveMedian: ' + str(giveMedian(fillsorted)) )"
      ],
      "metadata": {
        "colab": {
          "base_uri": "https://localhost:8080/"
        },
        "id": "zYzoGzvuHJMU",
        "outputId": "5266a3af-71a7-4e32-d022-61b9f0cd0b58"
      },
      "execution_count": 66,
      "outputs": [
        {
          "output_type": "stream",
          "name": "stdout",
          "text": [
            "isna: 708\n",
            "Quotient: 4852.0\n",
            "Median: 104.0\n",
            "giveMedian: 104.0\n",
            "horsepower\n",
            "152.0    142\n",
            "145.0    141\n",
            "151.0    134\n",
            "141.0    130\n",
            "148.0    130\n",
            "        ... \n",
            "231.0      1\n",
            "245.0      1\n",
            "246.0      1\n",
            "252.0      1\n",
            "271.0      1\n",
            "Name: count, Length: 192, dtype: int64\n",
            "horspowefillna: 0\n",
            "horsepower\n",
            "152.0    850\n",
            "145.0    141\n",
            "151.0    134\n",
            "141.0    130\n",
            "148.0    130\n",
            "        ... \n",
            "231.0      1\n",
            "245.0      1\n",
            "246.0      1\n",
            "252.0      1\n",
            "271.0      1\n",
            "Name: count, Length: 192, dtype: int64\n",
            "Quotient: 4852.0\n",
            "Median: 104.0\n",
            "giveMedian: 104.0\n"
          ]
        }
      ]
    },
    {
      "cell_type": "code",
      "source": [
        "def giveMedian(data):\n",
        "  sorted = data.sort_values(ascending=True)\n",
        "\n",
        "  n = len(data)\n",
        "  if(n%2 == 0):\n",
        "    quotien = n//2\n",
        "    median = data[quotien]\n",
        "  else:\n",
        "    upper_index = n//2\n",
        "    lower = upper_index - 1\n",
        "    middle = sorted[lower] + sorted[lower]\n",
        "    median = middle/2\n",
        "\n",
        "  return median"
      ],
      "metadata": {
        "id": "rE2D2wt88YvQ"
      },
      "execution_count": 64,
      "outputs": []
    },
    {
      "cell_type": "code",
      "source": [
        "import statistics as stat\n",
        "\n",
        "#print(database.info())\n",
        "#print(database.describe())\n",
        "print('isnull: '+ str(database['horsepower'].isna().sum()))\n",
        "print('median: '+ str(stat.median(database['horsepower']))) # 165.0\n",
        "print(database['horsepower'].value_counts())\n",
        "\n",
        "filled = database['horsepower'].fillna(152.0  )\n",
        "print(filled.value_counts())\n",
        "print('isnull (filled): '+ str(filled.isna().sum()))\n",
        "print('median (filled): ' + str(stat.median(filled)) )"
      ],
      "metadata": {
        "colab": {
          "base_uri": "https://localhost:8080/"
        },
        "id": "n8e8LYL6MGUl",
        "outputId": "83e7eb7c-e126-4508-81b9-f425eb2c56fa"
      },
      "execution_count": 57,
      "outputs": [
        {
          "output_type": "stream",
          "name": "stdout",
          "text": [
            "isnull: 708\n",
            "median: 165.0\n",
            "horsepower\n",
            "152.0    142\n",
            "145.0    141\n",
            "151.0    134\n",
            "148.0    130\n",
            "141.0    130\n",
            "        ... \n",
            "40.0       1\n",
            "57.0       1\n",
            "245.0      1\n",
            "252.0      1\n",
            "61.0       1\n",
            "Name: count, Length: 192, dtype: int64\n",
            "horsepower\n",
            "152.0    850\n",
            "145.0    141\n",
            "151.0    134\n",
            "148.0    130\n",
            "141.0    130\n",
            "        ... \n",
            "40.0       1\n",
            "57.0       1\n",
            "245.0      1\n",
            "252.0      1\n",
            "61.0       1\n",
            "Name: count, Length: 192, dtype: int64\n",
            "isnull (filled): 0\n",
            "median (filled): 152.0\n"
          ]
        }
      ]
    },
    {
      "cell_type": "code",
      "source": [
        "import numpy as np\n",
        "import math\n",
        "\n",
        "array = np.array([3,7,4,5,10,4])\n",
        "print(type(array), np.nanmedian(array))\n",
        "\n",
        "x=np.array(database['horsepower'])\n",
        "print('nan: '+ str(database['horsepower'].isna().sum()) + ' nanMedian: '+ str(np.nanmedian(x)) + ' Median: '+ str(np.median(x)) )\n",
        "\n",
        "\n",
        "filled = database['horsepower']\n",
        "filled = filled.fillna(152.0 )\n",
        "y=np.array(filled)\n",
        "print('nan: '+ str(filled.isna().sum()) + ' nanMedian: '+ str(np.nanmedian(y)) + ' Median: '+ str(np.median(y)) )\n",
        "for l in filled:\n",
        "    if math.isnan(l) or pd.isnull(l):\n",
        "      print(l)"
      ],
      "metadata": {
        "colab": {
          "base_uri": "https://localhost:8080/"
        },
        "id": "tLVcLI-enZQh",
        "outputId": "5ead6248-8e4d-4895-b040-dcd5d0ca580b"
      },
      "execution_count": 59,
      "outputs": [
        {
          "output_type": "stream",
          "name": "stdout",
          "text": [
            "<class 'numpy.ndarray'> 4.5\n",
            "nan: 708 nanMedian: 149.0 Median: nan\n",
            "nan: 0 nanMedian: 152.0 Median: 152.0\n"
          ]
        }
      ]
    },
    {
      "cell_type": "code",
      "source": [
        "#Q7 - Select all the cars from Asia\n",
        "print(database.columns)\n",
        "\n",
        "asia_cars = database[database['origin']  == 'Asia']\n",
        "print(asia_cars, str(len(asia_cars)))\n",
        "\n"
      ],
      "metadata": {
        "id": "E9MeAjS8WJSd",
        "colab": {
          "base_uri": "https://localhost:8080/"
        },
        "outputId": "2b595436-38f6-49f6-87e7-f8aa480f5225"
      },
      "execution_count": 79,
      "outputs": [
        {
          "output_type": "stream",
          "name": "stdout",
          "text": [
            "Index(['engine_displacement', 'num_cylinders', 'horsepower', 'vehicle_weight',\n",
            "       'acceleration', 'model_year', 'origin', 'fuel_type', 'drivetrain',\n",
            "       'num_doors', 'fuel_efficiency_mpg'],\n",
            "      dtype='object')\n",
            "      engine_displacement  num_cylinders  horsepower  vehicle_weight  \\\n",
            "8                     250            1.0       174.0     2714.219310   \n",
            "12                    320            5.0       145.0     2783.868974   \n",
            "14                    200            6.0       160.0     3582.687368   \n",
            "20                    150            3.0       197.0     2231.808142   \n",
            "21                    160            4.0       133.0     2659.431451   \n",
            "...                   ...            ...         ...             ...   \n",
            "9688                  260            4.0         NaN     3948.404625   \n",
            "9692                  180            3.0       188.0     3680.341381   \n",
            "9693                  280            2.0       148.0     2545.070139   \n",
            "9698                  180            1.0       131.0     3107.427820   \n",
            "9703                  270            3.0       140.0     2908.043477   \n",
            "\n",
            "      acceleration  model_year origin fuel_type         drivetrain  num_doors  \\\n",
            "8             10.3        2016   Asia    Diesel  Front-wheel drive       -1.0   \n",
            "12            15.1        2010   Asia    Diesel    All-wheel drive        1.0   \n",
            "14            14.9        2007   Asia    Diesel    All-wheel drive        0.0   \n",
            "20            18.7        2011   Asia  Gasoline  Front-wheel drive        1.0   \n",
            "21             NaN        2016   Asia  Gasoline  Front-wheel drive       -1.0   \n",
            "...            ...         ...    ...       ...                ...        ...   \n",
            "9688          15.5        2018   Asia    Diesel    All-wheel drive       -1.0   \n",
            "9692          18.0        2016   Asia  Gasoline  Front-wheel drive        1.0   \n",
            "9693          15.6        2012   Asia    Diesel    All-wheel drive        0.0   \n",
            "9698          13.2        2005   Asia  Gasoline  Front-wheel drive       -2.0   \n",
            "9703          14.7        2005   Asia    Diesel    All-wheel drive       -1.0   \n",
            "\n",
            "      fuel_efficiency_mpg  \n",
            "8               16.823554  \n",
            "12              16.175820  \n",
            "14              11.871091  \n",
            "20              18.889083  \n",
            "21              16.077730  \n",
            "...                   ...  \n",
            "9688            11.054830  \n",
            "9692            11.711653  \n",
            "9693            17.202782  \n",
            "9698            13.933716  \n",
            "9703            14.884467  \n",
            "\n",
            "[3247 rows x 11 columns] 3247\n"
          ]
        }
      ]
    },
    {
      "cell_type": "code",
      "source": [
        "#Select only columns vehicle_weight and model_year\n",
        "asia_cars_segment = database[['vehicle_weight', 'model_year']]\n",
        "print(asia_cars_segment)\n"
      ],
      "metadata": {
        "colab": {
          "base_uri": "https://localhost:8080/"
        },
        "id": "yhdcFYNbAE12",
        "outputId": "3c1060b3-92a9-41df-fc2d-73081b9c58ff"
      },
      "execution_count": 80,
      "outputs": [
        {
          "output_type": "stream",
          "name": "stdout",
          "text": [
            "      vehicle_weight  model_year\n",
            "0        3413.433759        2003\n",
            "1        3149.664934        2007\n",
            "2        3079.038997        2018\n",
            "3        2542.392402        2009\n",
            "4        3460.870990        2009\n",
            "...              ...         ...\n",
            "9699     2981.107371        2013\n",
            "9700     2439.525729        2004\n",
            "9701     2583.471318        2008\n",
            "9702     2905.527390        2011\n",
            "9703     2908.043477        2005\n",
            "\n",
            "[9704 rows x 2 columns]\n"
          ]
        }
      ]
    },
    {
      "cell_type": "code",
      "source": [
        "#Select the first 7 values\n",
        "asia_cars_segment7 = asia_cars_segment.head(7)\n",
        "print(asia_cars_segment7)"
      ],
      "metadata": {
        "colab": {
          "base_uri": "https://localhost:8080/"
        },
        "id": "qJn2gS9EAMov",
        "outputId": "ddc1ecd6-763a-46d6-fd06-5fbcc418efbe"
      },
      "execution_count": 81,
      "outputs": [
        {
          "output_type": "stream",
          "name": "stdout",
          "text": [
            "   vehicle_weight  model_year\n",
            "0     3413.433759        2003\n",
            "1     3149.664934        2007\n",
            "2     3079.038997        2018\n",
            "3     2542.392402        2009\n",
            "4     3460.870990        2009\n",
            "5     2484.883986        2008\n",
            "6     3006.542287        2012\n"
          ]
        }
      ]
    },
    {
      "cell_type": "code",
      "source": [
        "\n",
        "#Get the underlying NumPy array. Let's call it X.\n",
        "print(type(asia_cars_segment7))\n",
        "X = np.array(asia_cars_segment7)\n",
        "print(X)\n"
      ],
      "metadata": {
        "colab": {
          "base_uri": "https://localhost:8080/"
        },
        "id": "DGtF6A6aAaL5",
        "outputId": "9c446253-fd2d-4ff7-edf3-952fe754c910"
      },
      "execution_count": 83,
      "outputs": [
        {
          "output_type": "stream",
          "name": "stdout",
          "text": [
            "<class 'pandas.core.frame.DataFrame'>\n",
            "[[3413.43375861 2003.        ]\n",
            " [3149.66493422 2007.        ]\n",
            " [3079.03899737 2018.        ]\n",
            " [2542.39240183 2009.        ]\n",
            " [3460.87098999 2009.        ]\n",
            " [2484.88398604 2008.        ]\n",
            " [3006.54228722 2012.        ]]\n"
          ]
        }
      ]
    },
    {
      "cell_type": "code",
      "source": [
        "#Compute matrix-matrix multiplication between the transpose of X and X. To get the transpose, use X.T. Let's call the result XTX.\n",
        "XTX =   X.T @ X\n",
        "print(XTX)"
      ],
      "metadata": {
        "colab": {
          "base_uri": "https://localhost:8080/"
        },
        "id": "C6vWJcQAAvKl",
        "outputId": "69cb2361-4e35-42c5-f052-8712627517c0"
      },
      "execution_count": 96,
      "outputs": [
        {
          "output_type": "stream",
          "name": "stdout",
          "text": [
            "[[64707732.45267162 42471352.31816065]\n",
            " [42471352.31816065 28264752.        ]]\n"
          ]
        }
      ]
    },
    {
      "cell_type": "code",
      "source": [
        "#Invert XTX.\n",
        "from numpy.linalg import inv\n",
        "ainv = inv(XTX)\n",
        "print(ainv)\n"
      ],
      "metadata": {
        "colab": {
          "base_uri": "https://localhost:8080/"
        },
        "id": "Yiz-d9AGH65j",
        "outputId": "fe528bfd-eab3-4614-8ac8-c6272a64c33b"
      },
      "execution_count": 97,
      "outputs": [
        {
          "output_type": "stream",
          "name": "stdout",
          "text": [
            "[[ 1.12464107e-06 -1.68991495e-06]\n",
            " [-1.68991495e-06  2.57468996e-06]]\n"
          ]
        }
      ]
    },
    {
      "cell_type": "code",
      "source": [
        "#Create an array y with values [1100, 1300, 800, 900, 1000, 1100, 1200].\n",
        "y = np.array([1100, 1300, 800, 900, 1000, 1100, 1200])\n",
        "\n",
        "#Multiply the inverse of XTX with the transpose of X, and then multiply the result by y. Call the result w.\n",
        "w = (ainv @ X.T) * y\n",
        "print(w)\n",
        "\n",
        "#What's the sum of all the elements of the result?\n",
        "total = w.sum()\n",
        "print(total)"
      ],
      "metadata": {
        "colab": {
          "base_uri": "https://localhost:8080/"
        },
        "id": "6WU0b2UvDdcY",
        "outputId": "f5970c7a-b1dc-4575-b403-385b04c3b99e"
      },
      "execution_count": 100,
      "outputs": [
        {
          "output_type": "stream",
          "name": "stdout",
          "text": [
            "[[ 0.49938695  0.19575819  0.04205227 -0.48218421  0.49719851 -0.65862131\n",
            "  -0.02259355]\n",
            " [-0.67243962 -0.20184204 -0.00607175  0.78851268 -0.67602549  1.06780833\n",
            "   0.11937053]]\n",
            "0.4903094879707426\n"
          ]
        }
      ]
    }
  ]
}