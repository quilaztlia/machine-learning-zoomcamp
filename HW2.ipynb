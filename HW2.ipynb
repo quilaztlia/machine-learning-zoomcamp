{
  "nbformat": 4,
  "nbformat_minor": 0,
  "metadata": {
    "colab": {
      "provenance": [],
      "authorship_tag": "ABX9TyPYDHaS53NDGFrpfF+u//rR",
      "include_colab_link": true
    },
    "kernelspec": {
      "name": "python3",
      "display_name": "Python 3"
    },
    "language_info": {
      "name": "python"
    }
  },
  "cells": [
    {
      "cell_type": "markdown",
      "metadata": {
        "id": "view-in-github",
        "colab_type": "text"
      },
      "source": [
        "<a href=\"https://colab.research.google.com/github/quilaztlia/machine-learning-zoomcamp/blob/main/HW2.ipynb\" target=\"_parent\"><img src=\"https://colab.research.google.com/assets/colab-badge.svg\" alt=\"Open In Colab\"/></a>"
      ]
    },
    {
      "cell_type": "code",
      "execution_count": null,
      "metadata": {
        "id": "OgXc5BKYvQ9g"
      },
      "outputs": [],
      "source": [
        "#https://courses.datatalks.club/ml-zoomcamp-2025/"
      ]
    },
    {
      "cell_type": "code",
      "source": [
        "import pandas as pd\n",
        "\n",
        "file = pd.read_csv('car_fuel_efficiency.csv');\n",
        "\n",
        "dataset = file.filter(items =['engine_displacement',\n",
        "'horsepower',\n",
        "'vehicle_weight',\n",
        "'model_year',\n",
        "'fuel_efficiency_mpg'])\n",
        "\n",
        "\n"
      ],
      "metadata": {
        "id": "P4U2TtPCweKe"
      },
      "execution_count": 5,
      "outputs": []
    },
    {
      "cell_type": "code",
      "source": [
        "#EDA: Look at the fuel_efficiency_mpg variable. Does it have a long tail?\n",
        "import seaborn as sn\n",
        "\n",
        "sn.histplot(dataset['fuel_efficiency_mpg'])"
      ],
      "metadata": {
        "colab": {
          "base_uri": "https://localhost:8080/",
          "height": 467
        },
        "id": "RSaFzoT5AWiR",
        "outputId": "cfac3a47-01de-4403-9b10-5e7ad7c1adb1"
      },
      "execution_count": 6,
      "outputs": [
        {
          "output_type": "execute_result",
          "data": {
            "text/plain": [
              "<Axes: xlabel='fuel_efficiency_mpg', ylabel='Count'>"
            ]
          },
          "metadata": {},
          "execution_count": 6
        },
        {
          "output_type": "display_data",
          "data": {
            "text/plain": [
              "<Figure size 640x480 with 1 Axes>"
            ],
            "image/png": "[encoded data removed]"
          },
          "metadata": {}
        }
      ]
    },
    {
      "cell_type": "code",
      "source": [
        "#Question 1: There's one column with missing values. What is it?\n",
        "# horsepower\n",
        "print(dataset.info())\n",
        "print(dataset.isnull().sum())\n",
        "\n"
      ],
      "metadata": {
        "colab": {
          "base_uri": "https://localhost:8080/"
        },
        "id": "r15uP3dQzX7L",
        "outputId": "630313e1-950c-4f81-f44b-5c3232a191a9"
      },
      "execution_count": 7,
      "outputs": [
        {
          "output_type": "stream",
          "name": "stdout",
          "text": [
            "<class 'pandas.core.frame.DataFrame'>\n",
            "RangeIndex: 9704 entries, 0 to 9703\n",
            "Data columns (total 5 columns):\n",
            " #   Column               Non-Null Count  Dtype  \n",
            "---  ------               --------------  -----  \n",
            " 0   engine_displacement  9704 non-null   int64  \n",
            " 1   horsepower           8996 non-null   float64\n",
            " 2   vehicle_weight       9704 non-null   float64\n",
            " 3   model_year           9704 non-null   int64  \n",
            " 4   fuel_efficiency_mpg  9704 non-null   float64\n",
            "dtypes: float64(3), int64(2)\n",
            "memory usage: 379.2 KB\n",
            "None\n",
            "engine_displacement      0\n",
            "horsepower             708\n",
            "vehicle_weight           0\n",
            "model_year               0\n",
            "fuel_efficiency_mpg      0\n",
            "dtype: int64\n"
          ]
        }
      ]
    },
    {
      "cell_type": "code",
      "source": [
        "#Question 2: What's the median (50% percentile) for variable 'horsepower'?\n",
        "# 149\n",
        "\n",
        "import statistics as stat\n",
        "import numpy as np\n",
        "\n",
        "print(np.nanmedian(dataset['horsepower']))\n",
        "print(stat.median(dataset['horsepower']))\n",
        "print(dataset.describe())"
      ],
      "metadata": {
        "colab": {
          "base_uri": "https://localhost:8080/"
        },
        "id": "5ZzRtirs-JCG",
        "outputId": "c5e9ad86-6cf3-419d-9919-61a3964306df"
      },
      "execution_count": 8,
      "outputs": [
        {
          "output_type": "stream",
          "name": "stdout",
          "text": [
            "149.0\n",
            "165.0\n",
            "       engine_displacement   horsepower  vehicle_weight   model_year  \\\n",
            "count          9704.000000  8996.000000     9704.000000  9704.000000   \n",
            "mean            199.708368   149.657292     3001.280993  2011.484027   \n",
            "std              49.455319    29.879555      497.894860     6.659808   \n",
            "min              10.000000    37.000000      952.681761  2000.000000   \n",
            "25%             170.000000   130.000000     2666.248985  2006.000000   \n",
            "50%             200.000000   149.000000     2993.226296  2012.000000   \n",
            "75%             230.000000   170.000000     3334.957039  2017.000000   \n",
            "max             380.000000   271.000000     4739.077089  2023.000000   \n",
            "\n",
            "       fuel_efficiency_mpg  \n",
            "count          9704.000000  \n",
            "mean             14.985243  \n",
            "std               2.556468  \n",
            "min               6.200971  \n",
            "25%              13.267459  \n",
            "50%              15.006037  \n",
            "75%              16.707965  \n",
            "max              25.967222  \n"
          ]
        }
      ]
    },
    {
      "cell_type": "code",
      "source": [
        "#Prepare and split the dataset\n",
        "#Shuffle the dataset (the filtered one you created above), use seed 42.\n",
        "#Split your data in train/val/test sets, with 60%/20%/20% distribution.##\n",
        "n = len(dataset)\n",
        "print(n)\n",
        "\n",
        "n_val = int(n*0.2)\n",
        "n_test = int(n*0.2)\n",
        "n_train = n - n_val - n_test\n",
        "print(n_val ,  n_test, n_train)"
      ],
      "metadata": {
        "colab": {
          "base_uri": "https://localhost:8080/"
        },
        "id": "57FIHQ3H9VO9",
        "outputId": "43245168-29bb-4f2c-d04a-91a3bfd4b1be"
      },
      "execution_count": 9,
      "outputs": [
        {
          "output_type": "stream",
          "name": "stdout",
          "text": [
            "9704\n",
            "1940 1940 5824\n"
          ]
        }
      ]
    },
    {
      "cell_type": "code",
      "source": [
        "np.random.seed(42)\n",
        "\n",
        "idx = np.arange(n)\n",
        "print(idx)\n",
        "np.random.shuffle(idx)\n",
        "print(idx)\n",
        "\n",
        "dt_train = dataset.iloc[idx[:  n_train]]\n",
        "dt_val = dataset.iloc[idx[n_train:n_train + n_val]]\n",
        "dt_test = dataset.iloc[idx[n_train + n_val:]]\n",
        "\n",
        "y_train_orig = dt_train['fuel_efficiency_mpg'].values\n",
        "y_val_orig = dt_val['fuel_efficiency_mpg'].values\n",
        "y_test_orig = dt_test['fuel_efficiency_mpg'].values\n",
        "\n",
        "y_train = np.log1p(y_train_orig)\n",
        "y_val = np.log1p(y_val_orig)\n",
        "y_test = np.log1p(y_test_orig)\n",
        "\n",
        "del dt_train['fuel_efficiency_mpg']\n",
        "del dt_val['fuel_efficiency_mpg']\n",
        "del dt_test['fuel_efficiency_mpg']"
      ],
      "metadata": {
        "colab": {
          "base_uri": "https://localhost:8080/"
        },
        "id": "r-yn0K10Es1A",
        "outputId": "463a8d3f-4fb8-4af0-8839-ec0bf723afd4"
      },
      "execution_count": 31,
      "outputs": [
        {
          "output_type": "stream",
          "name": "stdout",
          "text": [
            "[   0    1    2 ... 9701 9702 9703]\n",
            "[ 483 7506 8795 ... 5390  860 7270]\n"
          ]
        }
      ]
    },
    {
      "cell_type": "code",
      "source": [
        "#Question 3\n",
        "#We need to deal with missing values for the column from Q1.\n",
        "#We have two options: fill it with 0 or with the mean of this variable.\n",
        "#For computing the mean, use the training only!\n",
        "import matplotlib.pyplot as plt\n",
        "import seaborn as sns\n",
        "mean = dt_train['horsepower'].mean()\n",
        "\n",
        "dt_train_mean = dt_train.fillna(mean)\n",
        "print(dt_train_mean.isnull().sum())\n",
        "\n",
        "dt_train_zero = dt_train.fillna(0)\n",
        "print(dt_train_zero.isnull().sum())\n",
        "\n",
        "#Try both options. For each, train a linear regression model without\n",
        "#regularization using the code from the lessons.\n",
        "def train_linear_regression(X, y):\n",
        "  ones = np.ones(X.shape[0])\n",
        "  X = np.column_stack([ones, X])\n",
        "\n",
        "  XTX = X.T.dot(X)\n",
        "  XTX_inv = np.linalg.inv(XTX)\n",
        "  w = XTX_inv.dot(X.T).dot(y)\n",
        "\n",
        "  return w[0], w[1:]\n",
        "\n",
        "w_0_mean, w_mean = train_linear_regression(dt_train_mean, y_train)\n",
        "print(w_0_mean, w_mean)\n",
        "\n",
        "w_0_zero, w_zero = train_linear_regression(dt_train_zero, y_train)\n",
        "print(w_0_zero, w_zero)\n",
        "\n",
        "y_pred_mean = w_0_mean + dt_train_mean.dot(w_mean)\n",
        "print('y_pred_mean' + str(y_pred_mean))\n",
        "\n",
        "y_pred_zero = w_0_zero + dt_train_zero.dot(w_zero)\n",
        "print('y_pred_zero' + str(y_pred_zero))\n",
        "\n",
        "plt.figure(figsize=(6, 4))\n",
        "sns.histplot(y_pred_mean, label='mean', color='red', alpha=0.5)\n",
        "sns.histplot(y_pred_zero, label='zero', color='blue', alpha=0.3)\n",
        "plt.legend()\n",
        "plt.show()"
      ],
      "metadata": {
        "colab": {
          "base_uri": "https://localhost:8080/",
          "height": 993
        },
        "id": "c6hDCBYtfl6h",
        "outputId": "89db0e6b-2bbe-41ba-a1a6-23010f654d15"
      },
      "execution_count": 32,
      "outputs": [
        {
          "output_type": "stream",
          "name": "stdout",
          "text": [
            "engine_displacement    0\n",
            "horsepower             0\n",
            "vehicle_weight         0\n",
            "model_year             0\n",
            "dtype: int64\n",
            "engine_displacement    0\n",
            "horsepower             0\n",
            "vehicle_weight         0\n",
            "model_year             0\n",
            "dtype: int64\n",
            "3.671000819543139 [ 3.63140955e-06  6.65758686e-04 -3.23242585e-04 -2.14173526e-05]\n",
            "3.6646662472218297 [ 2.14827083e-06  2.21209296e-04 -3.23460699e-04  1.64673232e-05]\n",
            "y_pred_mean483     2.904935\n",
            "7506    2.836149\n",
            "8795    2.932813\n",
            "1688    2.553969\n",
            "6217    3.012672\n",
            "          ...   \n",
            "1696    2.878773\n",
            "5685    2.422431\n",
            "6735    2.921532\n",
            "2052    3.002868\n",
            "1776    2.942877\n",
            "Length: 5824, dtype: float64\n",
            "y_pred_zero483     2.909816\n",
            "7506    2.842787\n",
            "8795    2.933106\n",
            "1688    2.531355\n",
            "6217    3.032078\n",
            "          ...   \n",
            "1696    2.885802\n",
            "5685    2.432427\n",
            "6735    2.923297\n",
            "2052    3.003055\n",
            "1776    2.944049\n",
            "Length: 5824, dtype: float64\n"
          ]
        },
        {
          "output_type": "display_data",
          "data": {
            "text/plain": [
              "<Figure size 600x400 with 1 Axes>"
            ],
            "image/png": "[encoded data removed]"
          },
          "metadata": {}
        }
      ]
    },
    {
      "cell_type": "code",
      "source": [
        "#Use the validation dataset to evaluate the models and compare the RMSE of each option.\n",
        "#Round the RMSE scores to 2 decimal digits using round(score, 2)\n",
        "#Which option gives better RMSE?\n",
        "def rmse(y, y_pred):\n",
        "  error = y_pred - y\n",
        "  mse = (error ** 2).mean()\n",
        "  return np.sqrt(mse)\n",
        "\n",
        "dt_val_mean = dt_val.fillna(mean)\n",
        "dt_val_zero = dt_val.fillna(0)\n",
        "\n",
        "\n",
        "y_pred_mean = w_0_mean + dt_val_mean.dot(w_mean)\n",
        "y_pred_zero = w_0_zero + dt_val_zero.dot(w_zero)\n",
        "\n",
        "\n",
        "r_mean =rmse(y_val, y_pred_mean)\n",
        "r_zero =rmse(y_val, y_pred_zero)\n",
        "\n",
        "print('RMSE for filling with mean: ' + str(round(r_mean, 2)))\n",
        "print('RMSE for filling with zero: ' + str(round(r_zero, 2)))"
      ],
      "metadata": {
        "colab": {
          "base_uri": "https://localhost:8080/"
        },
        "id": "AaGE2M_PkM3e",
        "outputId": "57868848-5641-491f-850b-825776cd3b8c"
      },
      "execution_count": 42,
      "outputs": [
        {
          "output_type": "stream",
          "name": "stdout",
          "text": [
            "RMSE for filling with mean: 0.04\n",
            "RMSE for filling with zero: 0.04\n"
          ]
        }
      ]
    },
    {
      "cell_type": "code",
      "source": [
        "#Question 4\n",
        "#Now let's train a regularized linear regression.\n",
        "\n",
        "def train_linear_regression_reg(X, y, r=0.0):\n",
        "  ones = np.ones(X.shape[0])\n",
        "  X= np.column_stack([ones, X])\n",
        "\n",
        "  XTX = X.T.dot(X)\n",
        "  reg = r * np.eye(XTX.shape[0])\n",
        "  XTX = XTX + reg\n",
        "  XTX_inv = np.linalg.inv(XTX)\n",
        "  w = XTX_inv.dot(X.T).dot(y)\n",
        "\n",
        "  return w[0], w[1:]\n"
      ],
      "metadata": {
        "id": "Qreb2IUHoVz-"
      },
      "execution_count": 39,
      "outputs": []
    },
    {
      "cell_type": "code",
      "source": [
        "#For this question, fill the NAs with 0.\n",
        "#Try different values of r from this list: [0, 0.01, 0.1, 1, 5, 10, 100].\n",
        "#Use RMSE to evaluate the model on the validation dataset.\n",
        "#Round the RMSE scores to 2 decimal digits.\n",
        "#Which r gives the best RMSE?\n",
        "#If multiple options give the same best RMSE, select the smallest r.\n",
        "dt_train_r = dt_train.fillna(0)\n",
        "dt_val_r = dt_val.fillna(0)\n",
        "\n",
        "for r in [0, 0.01, 0.1, 1, 5, 10, 100]:\n",
        "  w_0, w = train_linear_regression_reg(dt_train_r, y_train, r)\n",
        "  y_pred_r = w_0 + dt_train_r.dot(w)\n",
        "  error = rmse(y_train, y_pred_r)\n",
        "  print(r, w_0, round(error, 2))\n"
      ],
      "metadata": {
        "colab": {
          "base_uri": "https://localhost:8080/"
        },
        "id": "2ULMMrNssxq7",
        "outputId": "382b539c-5c45-4981-ab78-258be9e9992d"
      },
      "execution_count": 43,
      "outputs": [
        {
          "output_type": "stream",
          "name": "stdout",
          "text": [
            "0 3.6646662472218297 0.04\n",
            "0.01 3.1688134470074534 0.04\n",
            "0.1 1.4288369989383432 0.04\n",
            "1 0.22012861946726972 0.04\n",
            "5 0.04624885656570121 0.04\n",
            "10 0.023271722731248758 0.04\n",
            "100 0.0023413689852701753 0.04\n"
          ]
        }
      ]
    },
    {
      "cell_type": "code",
      "source": [
        "#Question 5\n",
        "#We used seed 42 for splitting the data. Let's find out how selecting the seed influences our score.\n",
        "#Try different seed values: [0, 1, 2, 3, 4, 5, 6, 7, 8, 9].\n",
        "#For each seed, do the train/validation/test split with 60%/20%/20% distribution.\n",
        "#Fill the missing values with 0 and train a model without regularization.\n",
        "def prepare(dataset, seed, fillna):\n",
        "  n = len(dataset)\n",
        "  idx = np.arange(n)\n",
        "  np.random.seed(seed)\n",
        "  np.random.shuffle(idx)\n",
        "\n",
        "  n_val = int(n*0.2)\n",
        "  n_test = int(n*0.2)\n",
        "  n_train = n - n_val - n_test\n",
        "  #print(n_val ,  n_test, n_train)\n",
        "\n",
        "  dt_train = dataset.iloc[idx[:  n_train]]\n",
        "  dt_val = dataset.iloc[idx[n_train:n_train + n_val]]\n",
        "  dt_test = dataset.iloc[idx[n_train + n_val:]]\n",
        "\n",
        "  dt_train = dt_train.fillna(fillna)\n",
        "  dt_val = dt_val.fillna(fillna)\n",
        "  dt_test = dt_test.fillna(fillna)\n",
        "\n",
        "  y_train_orig = dt_train['fuel_efficiency_mpg'].values\n",
        "  y_val_orig = dt_val['fuel_efficiency_mpg'].values\n",
        "  y_test_orig = dt_test['fuel_efficiency_mpg'].values\n",
        "\n",
        "  y_train = np.log1p(y_train_orig)\n",
        "  y_val = np.log1p(y_val_orig)\n",
        "  y_test = np.log1p(y_test_orig)\n",
        "\n",
        "  del dt_train['fuel_efficiency_mpg']\n",
        "  del dt_val['fuel_efficiency_mpg']\n",
        "  del dt_test['fuel_efficiency_mpg']\n",
        "\n",
        "  return dt_train, dt_val, dt_test, y_train, y_val, y_test\n"
      ],
      "metadata": {
        "id": "bRJiPxEuvyt0"
      },
      "execution_count": 51,
      "outputs": []
    },
    {
      "cell_type": "code",
      "source": [
        "#For each seed, evaluate the model on the validation dataset and collect the RMSE scores.\n",
        "#What's the standard deviation of all the scores? To compute the standard deviation, use np.std.\n",
        "#Round the result to 3 decimal digits (round(std, 3))\n",
        "scores = []\n",
        "for s in [0, 1, 2, 3, 4, 5, 6, 7, 8, 9]:\n",
        "  dt_train, dt_val, dt_test, y_train, y_val, y_test = prepare(dataset, s, 0)\n",
        "  w_0, w = train_linear_regression(dt_train, y_train)\n",
        "  y_pred = w_0 + dt_val.dot(w)\n",
        "  scores.append(rmse(y_val, y_pred))\n",
        "\n",
        "print(scores)\n",
        "print(round(np.std(scores), 3))"
      ],
      "metadata": {
        "colab": {
          "base_uri": "https://localhost:8080/"
        },
        "id": "Xh7hjYzFyPhq",
        "outputId": "6aa9dc31-a00f-4453-c793-11adf063d019"
      },
      "execution_count": 53,
      "outputs": [
        {
          "output_type": "stream",
          "name": "stdout",
          "text": [
            "[np.float64(0.03801775537087802), np.float64(0.0392788533393729), np.float64(0.039446530525595505), np.float64(0.0387276370388226), np.float64(0.03727535850105433), np.float64(0.039384388339929154), np.float64(0.03890763931346167), np.float64(0.038379716269399816), np.float64(0.040189869753460644), np.float64(0.038607646441269794)]\n",
            "0.001\n"
          ]
        }
      ]
    },
    {
      "cell_type": "code",
      "source": [
        "#Question 6\n",
        "#Split the dataset like previously, use seed 9.\n",
        "#Combine train and validation datasets.\n",
        "#Fill the missing values with 0 and train a model with r=0.001.\n",
        "#What's the RMSE on the test dataset?\n",
        "dt_train, dt_val, dt_test, y_train, y_val, y_test = prepare(dataset, 9, 0)\n",
        "dt_combined = pd.concat([dt_train, dt_val])\n",
        "y_combined = np.concatenate([y_train, y_val])\n",
        "\n",
        "dt_combined.fillna(0, inplace=True)\n",
        "\n",
        "w_0_combined, w_combined = train_linear_regression_reg(dt_combined, y_combined, 0.001)\n",
        "y_pred = w_0_combined + dt_combined.dot(w_combined)\n",
        "\n",
        "print(round(rmse(y_combined, y_pred), 2))"
      ],
      "metadata": {
        "colab": {
          "base_uri": "https://localhost:8080/"
        },
        "id": "zjD4h9qk0QoT",
        "outputId": "cd8fceb6-959b-4701-8258-78b0e0d2b22c"
      },
      "execution_count": 58,
      "outputs": [
        {
          "output_type": "stream",
          "name": "stdout",
          "text": [
            "0.04\n"
          ]
        }
      ]
    },
    {
      "cell_type": "code",
      "source": [
        "#https://github.com/DataTalksClub/machine-learning-zoomcamp/blob/master/cohorts/2025/02-regression/homework.md#question-1\n",
        "#https://github.com/alexeygrigorev/mlbookcamp-code/blob/master/chapter-02-car-price/02-carprice.ipynb\n",
        "#41 : https://courses.datatalks.club/ml-zoomcamp-2025/homework/hw02"
      ],
      "metadata": {
        "id": "zaKSsnPgvzxD"
      },
      "execution_count": null,
      "outputs": []
    }
  ]
}