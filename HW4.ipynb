{
  "nbformat": 4,
  "nbformat_minor": 0,
  "metadata": {
    "colab": {
      "provenance": [],
      "authorship_tag": "ABX9TyO+7izgY1q6WalGY//ueJ0V"
    },
    "kernelspec": {
      "name": "python3",
      "display_name": "Python 3"
    },
    "language_info": {
      "name": "python"
    },
    "widgets": {
      "application/vnd.jupyter.widget-state+json": {
        "36fca6e65b574584a2b244f16051a355": {
          "model_module": "@jupyter-widgets/controls",
          "model_name": "HBoxModel",
          "model_module_version": "1.5.0",
          "state": {
            "_dom_classes": [],
            "_model_module": "@jupyter-widgets/controls",
            "_model_module_version": "1.5.0",
            "_model_name": "HBoxModel",
            "_view_count": null,
            "_view_module": "@jupyter-widgets/controls",
            "_view_module_version": "1.5.0",
            "_view_name": "HBoxView",
            "box_style": "",
            "children": [
              "IPY_MODEL_71a21baa538840eda270f3790ea81fee",
              "IPY_MODEL_99dfea78ae8a4551a0c8571c61996453",
              "IPY_MODEL_eb536c203e9d43b0ba50cf444607fbee"
            ],
            "layout": "IPY_MODEL_3d14f30b3de74b11ae27123c6edbea86"
          }
        },
        "71a21baa538840eda270f3790ea81fee": {
          "model_module": "@jupyter-widgets/controls",
          "model_name": "HTMLModel",
          "model_module_version": "1.5.0",
          "state": {
            "_dom_classes": [],
            "_model_module": "@jupyter-widgets/controls",
            "_model_module_version": "1.5.0",
            "_model_name": "HTMLModel",
            "_view_count": null,
            "_view_module": "@jupyter-widgets/controls",
            "_view_module_version": "1.5.0",
            "_view_name": "HTMLView",
            "description": "",
            "description_tooltip": null,
            "layout": "IPY_MODEL_aa18d879181c4aa69c78084034894e59",
            "placeholder": "​",
            "style": "IPY_MODEL_529df44288044fa68f6b1962d5c6b5ad",
            "value": "100%"
          }
        },
        "99dfea78ae8a4551a0c8571c61996453": {
          "model_module": "@jupyter-widgets/controls",
          "model_name": "FloatProgressModel",
          "model_module_version": "1.5.0",
          "state": {
            "_dom_classes": [],
            "_model_module": "@jupyter-widgets/controls",
            "_model_module_version": "1.5.0",
            "_model_name": "FloatProgressModel",
            "_view_count": null,
            "_view_module": "@jupyter-widgets/controls",
            "_view_module_version": "1.5.0",
            "_view_name": "ProgressView",
            "bar_style": "success",
            "description": "",
            "description_tooltip": null,
            "layout": "IPY_MODEL_55af27883a524f3bb1ea45694a0f5a8b",
            "max": 3,
            "min": 0,
            "orientation": "horizontal",
            "style": "IPY_MODEL_0de8282d5c474b88a0a3035b8bbe5936",
            "value": 3
          }
        },
        "eb536c203e9d43b0ba50cf444607fbee": {
          "model_module": "@jupyter-widgets/controls",
          "model_name": "HTMLModel",
          "model_module_version": "1.5.0",
          "state": {
            "_dom_classes": [],
            "_model_module": "@jupyter-widgets/controls",
            "_model_module_version": "1.5.0",
            "_model_name": "HTMLModel",
            "_view_count": null,
            "_view_module": "@jupyter-widgets/controls",
            "_view_module_version": "1.5.0",
            "_view_name": "HTMLView",
            "description": "",
            "description_tooltip": null,
            "layout": "IPY_MODEL_566f9f21b105471b8c7d4d514b1adad1",
            "placeholder": "​",
            "style": "IPY_MODEL_8ab4e50ae1f84befbb3fa747be7dee9e",
            "value": " 3/3 [00:01&lt;00:00,  3.50it/s]"
          }
        },
        "3d14f30b3de74b11ae27123c6edbea86": {
          "model_module": "@jupyter-widgets/base",
          "model_name": "LayoutModel",
          "model_module_version": "1.2.0",
          "state": {
            "_model_module": "@jupyter-widgets/base",
            "_model_module_version": "1.2.0",
            "_model_name": "LayoutModel",
            "_view_count": null,
            "_view_module": "@jupyter-widgets/base",
            "_view_module_version": "1.2.0",
            "_view_name": "LayoutView",
            "align_content": null,
            "align_items": null,
            "align_self": null,
            "border": null,
            "bottom": null,
            "display": null,
            "flex": null,
            "flex_flow": null,
            "grid_area": null,
            "grid_auto_columns": null,
            "grid_auto_flow": null,
            "grid_auto_rows": null,
            "grid_column": null,
            "grid_gap": null,
            "grid_row": null,
            "grid_template_areas": null,
            "grid_template_columns": null,
            "grid_template_rows": null,
            "height": null,
            "justify_content": null,
            "justify_items": null,
            "left": null,
            "margin": null,
            "max_height": null,
            "max_width": null,
            "min_height": null,
            "min_width": null,
            "object_fit": null,
            "object_position": null,
            "order": null,
            "overflow": null,
            "overflow_x": null,
            "overflow_y": null,
            "padding": null,
            "right": null,
            "top": null,
            "visibility": null,
            "width": null
          }
        },
        "aa18d879181c4aa69c78084034894e59": {
          "model_module": "@jupyter-widgets/base",
          "model_name": "LayoutModel",
          "model_module_version": "1.2.0",
          "state": {
            "_model_module": "@jupyter-widgets/base",
            "_model_module_version": "1.2.0",
            "_model_name": "LayoutModel",
            "_view_count": null,
            "_view_module": "@jupyter-widgets/base",
            "_view_module_version": "1.2.0",
            "_view_name": "LayoutView",
            "align_content": null,
            "align_items": null,
            "align_self": null,
            "border": null,
            "bottom": null,
            "display": null,
            "flex": null,
            "flex_flow": null,
            "grid_area": null,
            "grid_auto_columns": null,
            "grid_auto_flow": null,
            "grid_auto_rows": null,
            "grid_column": null,
            "grid_gap": null,
            "grid_row": null,
            "grid_template_areas": null,
            "grid_template_columns": null,
            "grid_template_rows": null,
            "height": null,
            "justify_content": null,
            "justify_items": null,
            "left": null,
            "margin": null,
            "max_height": null,
            "max_width": null,
            "min_height": null,
            "min_width": null,
            "object_fit": null,
            "object_position": null,
            "order": null,
            "overflow": null,
            "overflow_x": null,
            "overflow_y": null,
            "padding": null,
            "right": null,
            "top": null,
            "visibility": null,
            "width": null
          }
        },
        "529df44288044fa68f6b1962d5c6b5ad": {
          "model_module": "@jupyter-widgets/controls",
          "model_name": "DescriptionStyleModel",
          "model_module_version": "1.5.0",
          "state": {
            "_model_module": "@jupyter-widgets/controls",
            "_model_module_version": "1.5.0",
            "_model_name": "DescriptionStyleModel",
            "_view_count": null,
            "_view_module": "@jupyter-widgets/base",
            "_view_module_version": "1.2.0",
            "_view_name": "StyleView",
            "description_width": ""
          }
        },
        "55af27883a524f3bb1ea45694a0f5a8b": {
          "model_module": "@jupyter-widgets/base",
          "model_name": "LayoutModel",
          "model_module_version": "1.2.0",
          "state": {
            "_model_module": "@jupyter-widgets/base",
            "_model_module_version": "1.2.0",
            "_model_name": "LayoutModel",
            "_view_count": null,
            "_view_module": "@jupyter-widgets/base",
            "_view_module_version": "1.2.0",
            "_view_name": "LayoutView",
            "align_content": null,
            "align_items": null,
            "align_self": null,
            "border": null,
            "bottom": null,
            "display": null,
            "flex": null,
            "flex_flow": null,
            "grid_area": null,
            "grid_auto_columns": null,
            "grid_auto_flow": null,
            "grid_auto_rows": null,
            "grid_column": null,
            "grid_gap": null,
            "grid_row": null,
            "grid_template_areas": null,
            "grid_template_columns": null,
            "grid_template_rows": null,
            "height": null,
            "justify_content": null,
            "justify_items": null,
            "left": null,
            "margin": null,
            "max_height": null,
            "max_width": null,
            "min_height": null,
            "min_width": null,
            "object_fit": null,
            "object_position": null,
            "order": null,
            "overflow": null,
            "overflow_x": null,
            "overflow_y": null,
            "padding": null,
            "right": null,
            "top": null,
            "visibility": null,
            "width": null
          }
        },
        "0de8282d5c474b88a0a3035b8bbe5936": {
          "model_module": "@jupyter-widgets/controls",
          "model_name": "ProgressStyleModel",
          "model_module_version": "1.5.0",
          "state": {
            "_model_module": "@jupyter-widgets/controls",
            "_model_module_version": "1.5.0",
            "_model_name": "ProgressStyleModel",
            "_view_count": null,
            "_view_module": "@jupyter-widgets/base",
            "_view_module_version": "1.2.0",
            "_view_name": "StyleView",
            "bar_color": null,
            "description_width": ""
          }
        },
        "566f9f21b105471b8c7d4d514b1adad1": {
          "model_module": "@jupyter-widgets/base",
          "model_name": "LayoutModel",
          "model_module_version": "1.2.0",
          "state": {
            "_model_module": "@jupyter-widgets/base",
            "_model_module_version": "1.2.0",
            "_model_name": "LayoutModel",
            "_view_count": null,
            "_view_module": "@jupyter-widgets/base",
            "_view_module_version": "1.2.0",
            "_view_name": "LayoutView",
            "align_content": null,
            "align_items": null,
            "align_self": null,
            "border": null,
            "bottom": null,
            "display": null,
            "flex": null,
            "flex_flow": null,
            "grid_area": null,
            "grid_auto_columns": null,
            "grid_auto_flow": null,
            "grid_auto_rows": null,
            "grid_column": null,
            "grid_gap": null,
            "grid_row": null,
            "grid_template_areas": null,
            "grid_template_columns": null,
            "grid_template_rows": null,
            "height": null,
            "justify_content": null,
            "justify_items": null,
            "left": null,
            "margin": null,
            "max_height": null,
            "max_width": null,
            "min_height": null,
            "min_width": null,
            "object_fit": null,
            "object_position": null,
            "order": null,
            "overflow": null,
            "overflow_x": null,
            "overflow_y": null,
            "padding": null,
            "right": null,
            "top": null,
            "visibility": null,
            "width": null
          }
        },
        "8ab4e50ae1f84befbb3fa747be7dee9e": {
          "model_module": "@jupyter-widgets/controls",
          "model_name": "DescriptionStyleModel",
          "model_module_version": "1.5.0",
          "state": {
            "_model_module": "@jupyter-widgets/controls",
            "_model_module_version": "1.5.0",
            "_model_name": "DescriptionStyleModel",
            "_view_count": null,
            "_view_module": "@jupyter-widgets/base",
            "_view_module_version": "1.2.0",
            "_view_name": "StyleView",
            "description_width": ""
          }
        }
      }
    }
  },
  "cells": [
    {
      "cell_type": "code",
      "execution_count": 56,
      "metadata": {
        "id": "Q1UXqLwPR7Qg"
      },
      "outputs": [],
      "source": [
        "# HW: https://github.com/DataTalksClub/machine-learning-zoomcamp/blob/master/cohorts/2025/04-evaluation/homework.md\n",
        "# Notes: https://github.com/DataTalksClub/machine-learning-zoomcamp/tree/master/04-evaluation\n",
        "# https://www.youtube.com/watch?v=BIIZaVtUbf4&list=PL3MmuxUbc_hIhxl5Ji8t4O6lPAOpHaCLR&index=49"
      ]
    },
    {
      "cell_type": "code",
      "source": [
        "import pandas as pd\n",
        "import numpy as np\n",
        "import matplotlib.pyplot as plt\n",
        "\n",
        "df = pd.read_csv('course_lead_scoring.csv')"
      ],
      "metadata": {
        "id": "Mrd_P0Wo81lH"
      },
      "execution_count": 57,
      "outputs": []
    },
    {
      "cell_type": "markdown",
      "source": [
        "In this dataset our desired target for classification task will be *converted* variable - has the client signed up to the platform or not.\n",
        "\n"
      ],
      "metadata": {
        "id": "17vJiBaYPEtu"
      }
    },
    {
      "cell_type": "markdown",
      "source": [
        "**Data preparation**\n",
        "Check if the missing values are presented in the features.\n",
        "If there are missing values:\n",
        "For caterogiral features, replace them with 'NA'\n",
        "For numerical features, replace with with 0.0"
      ],
      "metadata": {
        "id": "h1h8a-adPOtP"
      }
    },
    {
      "cell_type": "code",
      "source": [
        "# Data preparation. Check if the missing values are presented in the features.\n",
        "df.isnull().sum()"
      ],
      "metadata": {
        "id": "7KUhbHLa_4O8",
        "colab": {
          "base_uri": "https://localhost:8080/",
          "height": 366
        },
        "outputId": "3d093a3f-6476-422f-a2f9-0f5ea800a765"
      },
      "execution_count": 58,
      "outputs": [
        {
          "output_type": "execute_result",
          "data": {
            "text/plain": [
              "lead_source                 128\n",
              "industry                    134\n",
              "number_of_courses_viewed      0\n",
              "annual_income               181\n",
              "employment_status           100\n",
              "location                     63\n",
              "interaction_count             0\n",
              "lead_score                    0\n",
              "converted                     0\n",
              "dtype: int64"
            ],
            "text/html": [
              "<div>\n",
              "<style scoped>\n",
              "    .dataframe tbody tr th:only-of-type {\n",
              "        vertical-align: middle;\n",
              "    }\n",
              "\n",
              "    .dataframe tbody tr th {\n",
              "        vertical-align: top;\n",
              "    }\n",
              "\n",
              "    .dataframe thead th {\n",
              "        text-align: right;\n",
              "    }\n",
              "</style>\n",
              "<table border=\"1\" class=\"dataframe\">\n",
              "  <thead>\n",
              "    <tr style=\"text-align: right;\">\n",
              "      <th></th>\n",
              "      <th>0</th>\n",
              "    </tr>\n",
              "  </thead>\n",
              "  <tbody>\n",
              "    <tr>\n",
              "      <th>lead_source</th>\n",
              "      <td>128</td>\n",
              "    </tr>\n",
              "    <tr>\n",
              "      <th>industry</th>\n",
              "      <td>134</td>\n",
              "    </tr>\n",
              "    <tr>\n",
              "      <th>number_of_courses_viewed</th>\n",
              "      <td>0</td>\n",
              "    </tr>\n",
              "    <tr>\n",
              "      <th>annual_income</th>\n",
              "      <td>181</td>\n",
              "    </tr>\n",
              "    <tr>\n",
              "      <th>employment_status</th>\n",
              "      <td>100</td>\n",
              "    </tr>\n",
              "    <tr>\n",
              "      <th>location</th>\n",
              "      <td>63</td>\n",
              "    </tr>\n",
              "    <tr>\n",
              "      <th>interaction_count</th>\n",
              "      <td>0</td>\n",
              "    </tr>\n",
              "    <tr>\n",
              "      <th>lead_score</th>\n",
              "      <td>0</td>\n",
              "    </tr>\n",
              "    <tr>\n",
              "      <th>converted</th>\n",
              "      <td>0</td>\n",
              "    </tr>\n",
              "  </tbody>\n",
              "</table>\n",
              "</div><br><label><b>dtype:</b> int64</label>"
            ]
          },
          "metadata": {},
          "execution_count": 58
        }
      ]
    },
    {
      "cell_type": "code",
      "source": [
        "\n",
        "mask = (df.dtypes.index != 'converted')\n",
        "\n",
        "categorical = df.dtypes[(df.dtypes == 'object') & mask].index\n",
        "categorical\n",
        "\n",
        "\n",
        "numerical = df.dtypes[(df.dtypes != 'object') & mask].index\n",
        "\n",
        "categorical, numerical"
      ],
      "metadata": {
        "colab": {
          "base_uri": "https://localhost:8080/"
        },
        "id": "76b8jtI6PvnV",
        "outputId": "09c6ac6a-7636-47d8-bbff-65dd8fb28762"
      },
      "execution_count": 59,
      "outputs": [
        {
          "output_type": "execute_result",
          "data": {
            "text/plain": [
              "(Index(['lead_source', 'industry', 'employment_status', 'location'], dtype='object'),\n",
              " Index(['number_of_courses_viewed', 'annual_income', 'interaction_count',\n",
              "        'lead_score'],\n",
              "       dtype='object'))"
            ]
          },
          "metadata": {},
          "execution_count": 59
        }
      ]
    },
    {
      "cell_type": "code",
      "source": [
        "#For caterogiral features, replace them with 'NA'\n",
        "df_fill = df.copy()\n",
        "\n",
        "for c in categorical:\n",
        "  df_fill[c] = df_fill[c].fillna('NA')\n",
        "\n",
        "#For numerical features, replace with with 0.0\n",
        "for n in numerical:\n",
        "  df_fill[n]  = df_fill[n].fillna(0.0)"
      ],
      "metadata": {
        "id": "4zTOMzE8Qy5l"
      },
      "execution_count": 60,
      "outputs": []
    },
    {
      "cell_type": "code",
      "source": [
        "# Data preparation. Check if the missing values are presented in the features.\n",
        "df_fill.isnull().sum()"
      ],
      "metadata": {
        "colab": {
          "base_uri": "https://localhost:8080/",
          "height": 366
        },
        "id": "tsQt1SUpRTU9",
        "outputId": "074f2004-50c1-4c43-cdb3-dd7310599c0e"
      },
      "execution_count": 61,
      "outputs": [
        {
          "output_type": "execute_result",
          "data": {
            "text/plain": [
              "lead_source                 0\n",
              "industry                    0\n",
              "number_of_courses_viewed    0\n",
              "annual_income               0\n",
              "employment_status           0\n",
              "location                    0\n",
              "interaction_count           0\n",
              "lead_score                  0\n",
              "converted                   0\n",
              "dtype: int64"
            ],
            "text/html": [
              "<div>\n",
              "<style scoped>\n",
              "    .dataframe tbody tr th:only-of-type {\n",
              "        vertical-align: middle;\n",
              "    }\n",
              "\n",
              "    .dataframe tbody tr th {\n",
              "        vertical-align: top;\n",
              "    }\n",
              "\n",
              "    .dataframe thead th {\n",
              "        text-align: right;\n",
              "    }\n",
              "</style>\n",
              "<table border=\"1\" class=\"dataframe\">\n",
              "  <thead>\n",
              "    <tr style=\"text-align: right;\">\n",
              "      <th></th>\n",
              "      <th>0</th>\n",
              "    </tr>\n",
              "  </thead>\n",
              "  <tbody>\n",
              "    <tr>\n",
              "      <th>lead_source</th>\n",
              "      <td>0</td>\n",
              "    </tr>\n",
              "    <tr>\n",
              "      <th>industry</th>\n",
              "      <td>0</td>\n",
              "    </tr>\n",
              "    <tr>\n",
              "      <th>number_of_courses_viewed</th>\n",
              "      <td>0</td>\n",
              "    </tr>\n",
              "    <tr>\n",
              "      <th>annual_income</th>\n",
              "      <td>0</td>\n",
              "    </tr>\n",
              "    <tr>\n",
              "      <th>employment_status</th>\n",
              "      <td>0</td>\n",
              "    </tr>\n",
              "    <tr>\n",
              "      <th>location</th>\n",
              "      <td>0</td>\n",
              "    </tr>\n",
              "    <tr>\n",
              "      <th>interaction_count</th>\n",
              "      <td>0</td>\n",
              "    </tr>\n",
              "    <tr>\n",
              "      <th>lead_score</th>\n",
              "      <td>0</td>\n",
              "    </tr>\n",
              "    <tr>\n",
              "      <th>converted</th>\n",
              "      <td>0</td>\n",
              "    </tr>\n",
              "  </tbody>\n",
              "</table>\n",
              "</div><br><label><b>dtype:</b> int64</label>"
            ]
          },
          "metadata": {},
          "execution_count": 61
        }
      ]
    },
    {
      "cell_type": "code",
      "source": [
        "# Split the data into 3 parts: train/validation/test with 60%/20%/20% distribution.\n",
        "# Use train_test_split function for that with random_state=1\n",
        "from sklearn.model_selection import train_test_split\n",
        "\n",
        "df_full_train, df_test = train_test_split(df_fill, test_size=0.2, random_state=1)\n",
        "\n",
        "print(df_full_train.shape)\n",
        "print(df_test.shape)\n",
        "\n",
        "df_train, df_val = train_test_split(df_full_train, test_size=0.25, random_state=1)\n",
        "\n",
        "print(df_train.shape)\n",
        "print(df_val.shape)\n",
        "print(len(df_train) + len(df_val) + len(df_test) , len(df))\n",
        "\n",
        "y_train = df_train.converted.values\n",
        "y_val = df_val.converted.values\n",
        "y_test = df_test.converted.values\n",
        "\n",
        "del df_train['converted']\n",
        "del df_val['converted']\n",
        "del df_test['converted']\n",
        "\n",
        "print(df_train.columns)\n",
        "print(df_val.columns)\n",
        "print(df_test.columns)"
      ],
      "metadata": {
        "colab": {
          "base_uri": "https://localhost:8080/"
        },
        "id": "RvdJnFDfRYDo",
        "outputId": "8732cded-3451-40bb-ba76-71a3974ecec1"
      },
      "execution_count": 62,
      "outputs": [
        {
          "output_type": "stream",
          "name": "stdout",
          "text": [
            "(1169, 9)\n",
            "(293, 9)\n",
            "(876, 9)\n",
            "(293, 9)\n",
            "1462 1462\n",
            "Index(['lead_source', 'industry', 'number_of_courses_viewed', 'annual_income',\n",
            "       'employment_status', 'location', 'interaction_count', 'lead_score'],\n",
            "      dtype='object')\n",
            "Index(['lead_source', 'industry', 'number_of_courses_viewed', 'annual_income',\n",
            "       'employment_status', 'location', 'interaction_count', 'lead_score'],\n",
            "      dtype='object')\n",
            "Index(['lead_source', 'industry', 'number_of_courses_viewed', 'annual_income',\n",
            "       'employment_status', 'location', 'interaction_count', 'lead_score'],\n",
            "      dtype='object')\n"
          ]
        }
      ]
    },
    {
      "cell_type": "code",
      "source": [
        "print(df_train.head())\n",
        "# print(df_val.head())\n",
        "# print(df_test.head())"
      ],
      "metadata": {
        "colab": {
          "base_uri": "https://localhost:8080/"
        },
        "id": "EMw85wCBXD_1",
        "outputId": "403f07a0-9c02-4530-d2f1-bca647eb2b5d"
      },
      "execution_count": 63,
      "outputs": [
        {
          "output_type": "stream",
          "name": "stdout",
          "text": [
            "         lead_source       industry  number_of_courses_viewed  annual_income  \\\n",
            "462           events  manufacturing                         2        95543.0   \n",
            "135         referral             NA                         1        54924.0   \n",
            "117   organic_search     healthcare                         2        77352.0   \n",
            "1051        paid_ads          other                         2        34600.0   \n",
            "945         paid_ads      education                         0        43615.0   \n",
            "\n",
            "     employment_status       location  interaction_count  lead_score  \n",
            "462         unemployed         europe                  3        0.78  \n",
            "135            student  south_america                  6        0.39  \n",
            "117         unemployed         europe                  2        0.22  \n",
            "1051          employed  south_america                  2        0.31  \n",
            "945         unemployed  south_america                  2        0.01  \n"
          ]
        }
      ]
    },
    {
      "cell_type": "code",
      "source": [
        "# Question 1: ROC AUC feature importance\n",
        "# ROC AUC could also be used to evaluate feature importance of numerical variables.\n",
        "# Let's do that\n",
        "# For each numerical variable, use it as score (aka prediction) and compute the AUC with the y variable as ground truth.\n",
        "# Use the training dataset for that\n",
        "# If your AUC is < 0.5, invert this variable by putting \"-\" in front\n",
        "# (e.g. -df_train['balance'])\n",
        "# AUC can go below 0.5 if the variable is negatively correlated with the target variable.\n",
        "# You can change the direction of the correlation by negating this variable - then negative correlation becomes positive.\n",
        "# Which numerical variable (among the following 4) has the highest AUC?\n",
        "# R=> number_of_courses_viewed\n",
        "from sklearn.metrics import roc_auc_score\n",
        "\n",
        "scores = []\n",
        "for n in numerical:\n",
        "  y_score = df_train[n].values\n",
        "  roc_auc_score_ = roc_auc_score(y_train, y_score)\n",
        "  print(n, roc_auc_score_)\n",
        "\n",
        "  if(roc_auc_score_ < 0.5):\n",
        "    df_train[n] = -df_train[n]\n",
        "\n",
        "  scores.append(roc_auc_score_)"
      ],
      "metadata": {
        "colab": {
          "base_uri": "https://localhost:8080/"
        },
        "id": "ZDHnpS-PSRnF",
        "outputId": "97ae4c87-ffd4-4613-c476-b63e9c522bca"
      },
      "execution_count": 64,
      "outputs": [
        {
          "output_type": "stream",
          "name": "stdout",
          "text": [
            "number_of_courses_viewed 0.7635680590007088\n",
            "annual_income 0.5519578313253012\n",
            "interaction_count 0.738270176293409\n",
            "lead_score 0.6144993577250176\n"
          ]
        }
      ]
    },
    {
      "cell_type": "code",
      "source": [
        "# Question 2: Training the model\n",
        "# Apply one-hot-encoding using DictVectorizer and train the logistic regression with these parameters:\n",
        "from sklearn.feature_extraction import DictVectorizer\n",
        "from sklearn.linear_model import LogisticRegression\n",
        "\n",
        "dv = DictVectorizer(sparse=False)\n",
        "\n",
        "X_train = dv.fit_transform(df_train.to_dict(orient='records'))\n",
        "X_val = dv.transform(df_val.to_dict(orient='records'));\n",
        "\n",
        "print(X_train.shape, y_train.shape)\n",
        "print(X_val.shape, y_val.shape)\n",
        "\n",
        "model = LogisticRegression(solver='liblinear', C=1.0, max_iter=1000)\n",
        "\n",
        "model.fit(X_train, y_train)\n",
        "\n",
        "model.intercept_\n",
        "model.coef_.round(3)"
      ],
      "metadata": {
        "colab": {
          "base_uri": "https://localhost:8080/"
        },
        "id": "_iFCnHlRa5nl",
        "outputId": "2af21314-a69a-4276-f76d-c411d72c4a57"
      },
      "execution_count": 65,
      "outputs": [
        {
          "output_type": "stream",
          "name": "stdout",
          "text": [
            "(876, 31) (876,)\n",
            "(293, 31) (293,)\n"
          ]
        },
        {
          "output_type": "execute_result",
          "data": {
            "text/plain": [
              "array([[-0.   , -0.027,  0.035, -0.01 ,  0.014, -0.117, -0.022,  0.033,\n",
              "        -0.008, -0.023, -0.007, -0.033, -0.027, -0.018,  0.326,  0.032,\n",
              "         0.   , -0.005, -0.024, -0.112,  0.07 , -0.034,  0.005, -0.012,\n",
              "        -0.01 , -0.028, -0.013, -0.019, -0.023, -0.005,  0.453]])"
            ]
          },
          "metadata": {},
          "execution_count": 65
        }
      ]
    },
    {
      "cell_type": "code",
      "source": [
        "# What's the AUC of this model on the validation dataset? (round to 3 digits)\n",
        "# 0.32\n",
        "# 0.52\n",
        "# 0.72\n",
        "# 0.92\n",
        "# R => 0.72\n",
        "y_pred = model.predict_proba(X_val)[:, 1]\n",
        "\n",
        "\n",
        "score_val = roc_auc_score(y_val, y_pred)\n",
        "print(score_val.round(3))\n",
        "0.817 - 0.92 , 0.817 - 0.72"
      ],
      "metadata": {
        "colab": {
          "base_uri": "https://localhost:8080/"
        },
        "id": "K6OzV88_cHxK",
        "outputId": "2979e6eb-59aa-422f-c4ba-4d3a5db22be6"
      },
      "execution_count": 66,
      "outputs": [
        {
          "output_type": "stream",
          "name": "stdout",
          "text": [
            "0.817\n"
          ]
        },
        {
          "output_type": "execute_result",
          "data": {
            "text/plain": [
              "(-0.10300000000000009, 0.09699999999999998)"
            ]
          },
          "metadata": {},
          "execution_count": 66
        }
      ]
    },
    {
      "cell_type": "code",
      "source": [
        "from sklearn.metrics import roc_curve\n",
        "\n",
        "fpr, tpr, th = roc_curve(y_val, y_pred)\n",
        "\n",
        "plt.figure(figsize=(5, 5))\n",
        "plt.plot(fpr, tpr, label='model')\n",
        "plt.plot([0, 1], [0, 1], label='rand', linestyle='--')\n",
        "plt.xlabel('FPR')\n",
        "plt.ylabel('TPR')\n",
        "plt.legend()"
      ],
      "metadata": {
        "colab": {
          "base_uri": "https://localhost:8080/",
          "height": 483
        },
        "id": "ZHtAf2mWbw9J",
        "outputId": "1af1fdbf-a7a2-4551-b298-83a0b46b4d8a"
      },
      "execution_count": 67,
      "outputs": [
        {
          "output_type": "execute_result",
          "data": {
            "text/plain": [
              "<matplotlib.legend.Legend at 0x7f321b18a270>"
            ]
          },
          "metadata": {},
          "execution_count": 67
        },
        {
          "output_type": "display_data",
          "data": {
            "text/plain": [
              "<Figure size 500x500 with 1 Axes>"
            ],
            "image/png": "[encoded data removed]"
          },
          "metadata": {}
        }
      ]
    },
    {
      "cell_type": "code",
      "source": [
        "from sklearn.metrics import auc\n",
        "\n",
        "auc_ = auc(fpr, tpr)\n",
        "\n",
        "auc_"
      ],
      "metadata": {
        "colab": {
          "base_uri": "https://localhost:8080/"
        },
        "id": "tZrk8T_ydofH",
        "outputId": "e4824d2c-3b3b-4150-a955-285b0c5544c2"
      },
      "execution_count": 79,
      "outputs": [
        {
          "output_type": "execute_result",
          "data": {
            "text/plain": [
              "np.float64(0.8171316268814112)"
            ]
          },
          "metadata": {},
          "execution_count": 79
        }
      ]
    },
    {
      "cell_type": "code",
      "source": [
        "0.72 - 0.817 ,  0.92 - 0.817"
      ],
      "metadata": {
        "colab": {
          "base_uri": "https://localhost:8080/"
        },
        "id": "YUXuBPd9d8BR",
        "outputId": "dc34ab7b-98c2-4c0c-8c7e-fbbe4e60803b"
      },
      "execution_count": 68,
      "outputs": [
        {
          "output_type": "execute_result",
          "data": {
            "text/plain": [
              "(-0.09699999999999998, 0.10300000000000009)"
            ]
          },
          "metadata": {},
          "execution_count": 68
        }
      ]
    },
    {
      "cell_type": "code",
      "source": [
        "# Question 3: Precision and Recall\n",
        "# Now let's compute precision and recall for our model.\n",
        "\n",
        "# Evaluate the model on all thresholds from 0.0 to 1.0 with step 0.01\n",
        "# For each threshold, compute precision and recall\n",
        "# Plot them\n",
        "# At which threshold precision and recall curves intersect?\n",
        "# 0.145\n",
        "# 0.345\n",
        "# 0.545\n",
        "# 0.745\n",
        "\n",
        "# R => 0.745\n",
        "thresholds = np.arange(0.0, 1.0, 0.01)\n",
        "\n",
        "actual_positive = (y_val == 1)\n",
        "actual_negative = (y_val == 0)\n",
        "\n",
        "scores_t = []\n",
        "for t in thresholds:\n",
        "  predic_positive = (y_pred >= t)\n",
        "  predict_negative = (y_pred < t)\n",
        "\n",
        "  tp = (predic_positive & actual_positive).sum()\n",
        "  tn = (predict_negative & actual_negative).sum()\n",
        "\n",
        "  fp = (predic_positive & actual_negative).sum()\n",
        "  fn = (predict_negative & actual_positive).sum()\n",
        "\n",
        "  precision = tp/(tp + fp)\n",
        "  recall = tp / (tp + fn)\n",
        "\n",
        "  scores_t.append((t, tp, fp, fn, tn, precision, recall))\n",
        "  #print(t, scores_t)\n",
        "\n",
        "  #scores_t"
      ],
      "metadata": {
        "colab": {
          "base_uri": "https://localhost:8080/"
        },
        "id": "V0OW0Kx5eWMt",
        "outputId": "930a3c12-8b5d-49f6-a965-dd6dc0e88d80"
      },
      "execution_count": 69,
      "outputs": [
        {
          "output_type": "stream",
          "name": "stderr",
          "text": [
            "/tmp/ipython-input-1253228411.py:30: RuntimeWarning: invalid value encountered in scalar divide\n",
            "  precision = tp/(tp + fp)\n"
          ]
        }
      ]
    },
    {
      "cell_type": "code",
      "source": [
        "# (t, tp, fp, fn, tn, precision, recall))\n",
        "columns = ['t', 'tp', 'fp', 'fn', 'tn', 'precision', 'recall']\n",
        "df_scores = pd.DataFrame(scores_t, columns=columns)\n",
        "df_scores[ (df_scores.t > 0.6) & (df_scores.t<0.68) ]"
      ],
      "metadata": {
        "id": "Ce6l_0_GhEJY",
        "colab": {
          "base_uri": "https://localhost:8080/",
          "height": 269
        },
        "outputId": "2ea9d268-aee7-4084-b62e-1101e32b09a5"
      },
      "execution_count": 70,
      "outputs": [
        {
          "output_type": "execute_result",
          "data": {
            "text/plain": [
              "       t   tp  fp  fn  tn  precision    recall\n",
              "61  0.61  148  50  23  72   0.747475  0.865497\n",
              "62  0.62  143  45  28  77   0.760638  0.836257\n",
              "63  0.63  139  43  32  79   0.763736  0.812865\n",
              "64  0.64  134  38  37  84   0.779070  0.783626\n",
              "65  0.65  130  37  41  85   0.778443  0.760234\n",
              "66  0.66  124  35  47  87   0.779874  0.725146\n",
              "67  0.67  122  31  49  91   0.797386  0.713450"
            ],
            "text/html": [
              "\n",
              "  <div id=\"df-2359c0b8-089f-4b83-b20b-a433d332fabf\" class=\"colab-df-container\">\n",
              "    <div>\n",
              "<style scoped>\n",
              "    .dataframe tbody tr th:only-of-type {\n",
              "        vertical-align: middle;\n",
              "    }\n",
              "\n",
              "    .dataframe tbody tr th {\n",
              "        vertical-align: top;\n",
              "    }\n",
              "\n",
              "    .dataframe thead th {\n",
              "        text-align: right;\n",
              "    }\n",
              "</style>\n",
              "<table border=\"1\" class=\"dataframe\">\n",
              "  <thead>\n",
              "    <tr style=\"text-align: right;\">\n",
              "      <th></th>\n",
              "      <th>t</th>\n",
              "      <th>tp</th>\n",
              "      <th>fp</th>\n",
              "      <th>fn</th>\n",
              "      <th>tn</th>\n",
              "      <th>precision</th>\n",
              "      <th>recall</th>\n",
              "    </tr>\n",
              "  </thead>\n",
              "  <tbody>\n",
              "    <tr>\n",
              "      <th>61</th>\n",
              "      <td>0.61</td>\n",
              "      <td>148</td>\n",
              "      <td>50</td>\n",
              "      <td>23</td>\n",
              "      <td>72</td>\n",
              "      <td>0.747475</td>\n",
              "      <td>0.865497</td>\n",
              "    </tr>\n",
              "    <tr>\n",
              "      <th>62</th>\n",
              "      <td>0.62</td>\n",
              "      <td>143</td>\n",
              "      <td>45</td>\n",
              "      <td>28</td>\n",
              "      <td>77</td>\n",
              "      <td>0.760638</td>\n",
              "      <td>0.836257</td>\n",
              "    </tr>\n",
              "    <tr>\n",
              "      <th>63</th>\n",
              "      <td>0.63</td>\n",
              "      <td>139</td>\n",
              "      <td>43</td>\n",
              "      <td>32</td>\n",
              "      <td>79</td>\n",
              "      <td>0.763736</td>\n",
              "      <td>0.812865</td>\n",
              "    </tr>\n",
              "    <tr>\n",
              "      <th>64</th>\n",
              "      <td>0.64</td>\n",
              "      <td>134</td>\n",
              "      <td>38</td>\n",
              "      <td>37</td>\n",
              "      <td>84</td>\n",
              "      <td>0.779070</td>\n",
              "      <td>0.783626</td>\n",
              "    </tr>\n",
              "    <tr>\n",
              "      <th>65</th>\n",
              "      <td>0.65</td>\n",
              "      <td>130</td>\n",
              "      <td>37</td>\n",
              "      <td>41</td>\n",
              "      <td>85</td>\n",
              "      <td>0.778443</td>\n",
              "      <td>0.760234</td>\n",
              "    </tr>\n",
              "    <tr>\n",
              "      <th>66</th>\n",
              "      <td>0.66</td>\n",
              "      <td>124</td>\n",
              "      <td>35</td>\n",
              "      <td>47</td>\n",
              "      <td>87</td>\n",
              "      <td>0.779874</td>\n",
              "      <td>0.725146</td>\n",
              "    </tr>\n",
              "    <tr>\n",
              "      <th>67</th>\n",
              "      <td>0.67</td>\n",
              "      <td>122</td>\n",
              "      <td>31</td>\n",
              "      <td>49</td>\n",
              "      <td>91</td>\n",
              "      <td>0.797386</td>\n",
              "      <td>0.713450</td>\n",
              "    </tr>\n",
              "  </tbody>\n",
              "</table>\n",
              "</div>\n",
              "    <div class=\"colab-df-buttons\">\n",
              "\n",
              "  <div class=\"colab-df-container\">\n",
              "    <button class=\"colab-df-convert\" onclick=\"convertToInteractive('df-2359c0b8-089f-4b83-b20b-a433d332fabf')\"\n",
              "            title=\"Convert this dataframe to an interactive table.\"\n",
              "            style=\"display:none;\">\n",
              "\n",
              "  <svg xmlns=\"http://www.w3.org/2000/svg\" height=\"24px\" viewBox=\"0 -960 960 960\">\n",
              "    <path d=\"M120-120v-720h720v720H120Zm60-500h600v-160H180v160Zm220 220h160v-160H400v160Zm0 220h160v-160H400v160ZM180-400h160v-160H180v160Zm440 0h160v-160H620v160ZM180-180h160v-160H180v160Zm440 0h160v-160H620v160Z\"/>\n",
              "  </svg>\n",
              "    </button>\n",
              "\n",
              "  <style>\n",
              "    .colab-df-container {\n",
              "      display:flex;\n",
              "      gap: 12px;\n",
              "    }\n",
              "\n",
              "    .colab-df-convert {\n",
              "      background-color: #E8F0FE;\n",
              "      border: none;\n",
              "      border-radius: 50%;\n",
              "      cursor: pointer;\n",
              "      display: none;\n",
              "      fill: #1967D2;\n",
              "      height: 32px;\n",
              "      padding: 0 0 0 0;\n",
              "      width: 32px;\n",
              "    }\n",
              "\n",
              "    .colab-df-convert:hover {\n",
              "      background-color: #E2EBFA;\n",
              "      box-shadow: 0px 1px 2px rgba(60, 64, 67, 0.3), 0px 1px 3px 1px rgba(60, 64, 67, 0.15);\n",
              "      fill: #174EA6;\n",
              "    }\n",
              "\n",
              "    .colab-df-buttons div {\n",
              "      margin-bottom: 4px;\n",
              "    }\n",
              "\n",
              "    [theme=dark] .colab-df-convert {\n",
              "      background-color: #3B4455;\n",
              "      fill: #D2E3FC;\n",
              "    }\n",
              "\n",
              "    [theme=dark] .colab-df-convert:hover {\n",
              "      background-color: #434B5C;\n",
              "      box-shadow: 0px 1px 3px 1px rgba(0, 0, 0, 0.15);\n",
              "      filter: drop-shadow(0px 1px 2px rgba(0, 0, 0, 0.3));\n",
              "      fill: #FFFFFF;\n",
              "    }\n",
              "  </style>\n",
              "\n",
              "    <script>\n",
              "      const buttonEl =\n",
              "        document.querySelector('#df-2359c0b8-089f-4b83-b20b-a433d332fabf button.colab-df-convert');\n",
              "      buttonEl.style.display =\n",
              "        google.colab.kernel.accessAllowed ? 'block' : 'none';\n",
              "\n",
              "      async function convertToInteractive(key) {\n",
              "        const element = document.querySelector('#df-2359c0b8-089f-4b83-b20b-a433d332fabf');\n",
              "        const dataTable =\n",
              "          await google.colab.kernel.invokeFunction('convertToInteractive',\n",
              "                                                    [key], {});\n",
              "        if (!dataTable) return;\n",
              "\n",
              "        const docLinkHtml = 'Like what you see? Visit the ' +\n",
              "          '<a target=\"_blank\" href=https://colab.research.google.com/notebooks/data_table.ipynb>data table notebook</a>'\n",
              "          + ' to learn more about interactive tables.';\n",
              "        element.innerHTML = '';\n",
              "        dataTable['output_type'] = 'display_data';\n",
              "        await google.colab.output.renderOutput(dataTable, element);\n",
              "        const docLink = document.createElement('div');\n",
              "        docLink.innerHTML = docLinkHtml;\n",
              "        element.appendChild(docLink);\n",
              "      }\n",
              "    </script>\n",
              "  </div>\n",
              "\n",
              "\n",
              "    <div id=\"df-409b05c8-7abd-4022-a63e-ceaa1574547c\">\n",
              "      <button class=\"colab-df-quickchart\" onclick=\"quickchart('df-409b05c8-7abd-4022-a63e-ceaa1574547c')\"\n",
              "                title=\"Suggest charts\"\n",
              "                style=\"display:none;\">\n",
              "\n",
              "<svg xmlns=\"http://www.w3.org/2000/svg\" height=\"24px\"viewBox=\"0 0 24 24\"\n",
              "     width=\"24px\">\n",
              "    <g>\n",
              "        <path d=\"M19 3H5c-1.1 0-2 .9-2 2v14c0 1.1.9 2 2 2h14c1.1 0 2-.9 2-2V5c0-1.1-.9-2-2-2zM9 17H7v-7h2v7zm4 0h-2V7h2v10zm4 0h-2v-4h2v4z\"/>\n",
              "    </g>\n",
              "</svg>\n",
              "      </button>\n",
              "\n",
              "<style>\n",
              "  .colab-df-quickchart {\n",
              "      --bg-color: #E8F0FE;\n",
              "      --fill-color: #1967D2;\n",
              "      --hover-bg-color: #E2EBFA;\n",
              "      --hover-fill-color: #174EA6;\n",
              "      --disabled-fill-color: #AAA;\n",
              "      --disabled-bg-color: #DDD;\n",
              "  }\n",
              "\n",
              "  [theme=dark] .colab-df-quickchart {\n",
              "      --bg-color: #3B4455;\n",
              "      --fill-color: #D2E3FC;\n",
              "      --hover-bg-color: #434B5C;\n",
              "      --hover-fill-color: #FFFFFF;\n",
              "      --disabled-bg-color: #3B4455;\n",
              "      --disabled-fill-color: #666;\n",
              "  }\n",
              "\n",
              "  .colab-df-quickchart {\n",
              "    background-color: var(--bg-color);\n",
              "    border: none;\n",
              "    border-radius: 50%;\n",
              "    cursor: pointer;\n",
              "    display: none;\n",
              "    fill: var(--fill-color);\n",
              "    height: 32px;\n",
              "    padding: 0;\n",
              "    width: 32px;\n",
              "  }\n",
              "\n",
              "  .colab-df-quickchart:hover {\n",
              "    background-color: var(--hover-bg-color);\n",
              "    box-shadow: 0 1px 2px rgba(60, 64, 67, 0.3), 0 1px 3px 1px rgba(60, 64, 67, 0.15);\n",
              "    fill: var(--button-hover-fill-color);\n",
              "  }\n",
              "\n",
              "  .colab-df-quickchart-complete:disabled,\n",
              "  .colab-df-quickchart-complete:disabled:hover {\n",
              "    background-color: var(--disabled-bg-color);\n",
              "    fill: var(--disabled-fill-color);\n",
              "    box-shadow: none;\n",
              "  }\n",
              "\n",
              "  .colab-df-spinner {\n",
              "    border: 2px solid var(--fill-color);\n",
              "    border-color: transparent;\n",
              "    border-bottom-color: var(--fill-color);\n",
              "    animation:\n",
              "      spin 1s steps(1) infinite;\n",
              "  }\n",
              "\n",
              "  @keyframes spin {\n",
              "    0% {\n",
              "      border-color: transparent;\n",
              "      border-bottom-color: var(--fill-color);\n",
              "      border-left-color: var(--fill-color);\n",
              "    }\n",
              "    20% {\n",
              "      border-color: transparent;\n",
              "      border-left-color: var(--fill-color);\n",
              "      border-top-color: var(--fill-color);\n",
              "    }\n",
              "    30% {\n",
              "      border-color: transparent;\n",
              "      border-left-color: var(--fill-color);\n",
              "      border-top-color: var(--fill-color);\n",
              "      border-right-color: var(--fill-color);\n",
              "    }\n",
              "    40% {\n",
              "      border-color: transparent;\n",
              "      border-right-color: var(--fill-color);\n",
              "      border-top-color: var(--fill-color);\n",
              "    }\n",
              "    60% {\n",
              "      border-color: transparent;\n",
              "      border-right-color: var(--fill-color);\n",
              "    }\n",
              "    80% {\n",
              "      border-color: transparent;\n",
              "      border-right-color: var(--fill-color);\n",
              "      border-bottom-color: var(--fill-color);\n",
              "    }\n",
              "    90% {\n",
              "      border-color: transparent;\n",
              "      border-bottom-color: var(--fill-color);\n",
              "    }\n",
              "  }\n",
              "</style>\n",
              "\n",
              "      <script>\n",
              "        async function quickchart(key) {\n",
              "          const quickchartButtonEl =\n",
              "            document.querySelector('#' + key + ' button');\n",
              "          quickchartButtonEl.disabled = true;  // To prevent multiple clicks.\n",
              "          quickchartButtonEl.classList.add('colab-df-spinner');\n",
              "          try {\n",
              "            const charts = await google.colab.kernel.invokeFunction(\n",
              "                'suggestCharts', [key], {});\n",
              "          } catch (error) {\n",
              "            console.error('Error during call to suggestCharts:', error);\n",
              "          }\n",
              "          quickchartButtonEl.classList.remove('colab-df-spinner');\n",
              "          quickchartButtonEl.classList.add('colab-df-quickchart-complete');\n",
              "        }\n",
              "        (() => {\n",
              "          let quickchartButtonEl =\n",
              "            document.querySelector('#df-409b05c8-7abd-4022-a63e-ceaa1574547c button');\n",
              "          quickchartButtonEl.style.display =\n",
              "            google.colab.kernel.accessAllowed ? 'block' : 'none';\n",
              "        })();\n",
              "      </script>\n",
              "    </div>\n",
              "\n",
              "    </div>\n",
              "  </div>\n"
            ],
            "application/vnd.google.colaboratory.intrinsic+json": {
              "type": "dataframe",
              "summary": "{\n  \"name\": \"df_scores[ (df_scores\",\n  \"rows\": 7,\n  \"fields\": [\n    {\n      \"column\": \"t\",\n      \"properties\": {\n        \"dtype\": \"number\",\n        \"std\": 0.021602468994692887,\n        \"min\": 0.61,\n        \"max\": 0.67,\n        \"num_unique_values\": 7,\n        \"samples\": [\n          0.61,\n          0.62,\n          0.66\n        ],\n        \"semantic_type\": \"\",\n        \"description\": \"\"\n      }\n    },\n    {\n      \"column\": \"tp\",\n      \"properties\": {\n        \"dtype\": \"number\",\n        \"std\": 9,\n        \"min\": 122,\n        \"max\": 148,\n        \"num_unique_values\": 7,\n        \"samples\": [\n          148,\n          143,\n          124\n        ],\n        \"semantic_type\": \"\",\n        \"description\": \"\"\n      }\n    },\n    {\n      \"column\": \"fp\",\n      \"properties\": {\n        \"dtype\": \"number\",\n        \"std\": 6,\n        \"min\": 31,\n        \"max\": 50,\n        \"num_unique_values\": 7,\n        \"samples\": [\n          50,\n          45,\n          35\n        ],\n        \"semantic_type\": \"\",\n        \"description\": \"\"\n      }\n    },\n    {\n      \"column\": \"fn\",\n      \"properties\": {\n        \"dtype\": \"number\",\n        \"std\": 9,\n        \"min\": 23,\n        \"max\": 49,\n        \"num_unique_values\": 7,\n        \"samples\": [\n          23,\n          28,\n          47\n        ],\n        \"semantic_type\": \"\",\n        \"description\": \"\"\n      }\n    },\n    {\n      \"column\": \"tn\",\n      \"properties\": {\n        \"dtype\": \"number\",\n        \"std\": 6,\n        \"min\": 72,\n        \"max\": 91,\n        \"num_unique_values\": 7,\n        \"samples\": [\n          72,\n          77,\n          87\n        ],\n        \"semantic_type\": \"\",\n        \"description\": \"\"\n      }\n    },\n    {\n      \"column\": \"precision\",\n      \"properties\": {\n        \"dtype\": \"number\",\n        \"std\": 0.016308544785896564,\n        \"min\": 0.7474747474747475,\n        \"max\": 0.7973856209150327,\n        \"num_unique_values\": 7,\n        \"samples\": [\n          0.7474747474747475,\n          0.7606382978723404,\n          0.779874213836478\n        ],\n        \"semantic_type\": \"\",\n        \"description\": \"\"\n      }\n    },\n    {\n      \"column\": \"recall\",\n      \"properties\": {\n        \"dtype\": \"number\",\n        \"std\": 0.0565686115864,\n        \"min\": 0.7134502923976608,\n        \"max\": 0.8654970760233918,\n        \"num_unique_values\": 7,\n        \"samples\": [\n          0.8654970760233918,\n          0.8362573099415205,\n          0.7251461988304093\n        ],\n        \"semantic_type\": \"\",\n        \"description\": \"\"\n      }\n    }\n  ]\n}"
            }
          },
          "metadata": {},
          "execution_count": 70
        }
      ]
    },
    {
      "cell_type": "code",
      "source": [
        "plt.plot(df_scores.t, df_scores.precision, label='precision')\n",
        "plt.plot(df_scores.t, df_scores.recall, label='recall')\n",
        "plt.axvline(x=0.65, color='red', linestyle='--', label='x = 0.7')\n",
        "plt.legend()\n"
      ],
      "metadata": {
        "colab": {
          "base_uri": "https://localhost:8080/",
          "height": 448
        },
        "id": "j8smxSITk8sP",
        "outputId": "469978dc-55b6-4917-b788-02022530fe58"
      },
      "execution_count": 71,
      "outputs": [
        {
          "output_type": "execute_result",
          "data": {
            "text/plain": [
              "<matplotlib.legend.Legend at 0x7f32183f3590>"
            ]
          },
          "metadata": {},
          "execution_count": 71
        },
        {
          "output_type": "display_data",
          "data": {
            "text/plain": [
              "<Figure size 640x480 with 1 Axes>"
            ],
            "image/png": "[encoded data removed]"
          },
          "metadata": {}
        }
      ]
    },
    {
      "cell_type": "code",
      "source": [
        "0.545 - 0.65 , 0.745 - 0.65"
      ],
      "metadata": {
        "colab": {
          "base_uri": "https://localhost:8080/"
        },
        "id": "k5cuUe-cnY9w",
        "outputId": "ef471fe3-30fa-4c7b-b588-1deaed15cf49"
      },
      "execution_count": 72,
      "outputs": [
        {
          "output_type": "execute_result",
          "data": {
            "text/plain": [
              "(-0.10499999999999998, 0.09499999999999997)"
            ]
          },
          "metadata": {},
          "execution_count": 72
        }
      ]
    },
    {
      "cell_type": "code",
      "source": [
        "# Question 4: F1 score\n",
        "# Precision and recall are conflicting - when one grows, the other goes down.\n",
        "# That's why they are often combined into the F1 score - a metrics that takes into account both\n",
        "# This is the formula for computing F1 = 2*(precision*recall)/(precision+recall)\n",
        "# Let's compute F1 for all thresholds from 0.0 to 1.0 with increment 0.01\n",
        "# At which threshold F1 is maximal?\n",
        "# 0.14\n",
        "# 0.34\n",
        "# 0.54\n",
        "# 0.74\n",
        "\n",
        "# R=> 0.74\n",
        "f1 = 2 * ((df_scores.precision * df_scores.recall)/(df_scores.precision + df_scores.recall))\n",
        "df_scores['f1']=f1\n",
        "\n",
        "df_scores.f1.max()"
      ],
      "metadata": {
        "colab": {
          "base_uri": "https://localhost:8080/"
        },
        "id": "1AVr8xK3riTL",
        "outputId": "5dd6ab21-bf2a-4557-a6f9-18b128005072"
      },
      "execution_count": 73,
      "outputs": [
        {
          "output_type": "execute_result",
          "data": {
            "text/plain": [
              "0.8124999999999999"
            ]
          },
          "metadata": {},
          "execution_count": 73
        }
      ]
    },
    {
      "cell_type": "code",
      "source": [
        "def train(df, y_train, c=1.0):\n",
        "  dicts = df.to_dict(orient='records')\n",
        "\n",
        "  dv = DictVectorizer(sparse=False)\n",
        "  X_train = dv.fit_transform(dicts)\n",
        "\n",
        "  model = LogisticRegression(solver='liblinear', C=c, max_iter=1000)\n",
        "  model.fit(X_train, y_train)\n",
        "\n",
        "  return dv, model\n",
        "\n",
        "def predict(df, dv, model):\n",
        "   dicts = df.to_dict(orient='records')\n",
        "   X = dv.transform(dicts)\n",
        "   y_pred = model.predict_proba(X)[:, 1]\n",
        "\n",
        "   return y_pred"
      ],
      "metadata": {
        "id": "aYxUqe_dyxLc"
      },
      "execution_count": 74,
      "outputs": []
    },
    {
      "cell_type": "code",
      "source": [
        "# Question 5: 5-Fold CV\n",
        "# Use the KFold class from Scikit-Learn to evaluate our model on 5 different folds:\n",
        "# KFold(n_splits=5, shuffle=True, random_state=1)\n",
        "\n",
        "# Iterate over different folds of df_full_train\n",
        "# Split the data into train and validation\n",
        "\n",
        "# Train the model on train with these parameters: LogisticRegression(solver='liblinear', C=1.0, max_iter=1000)\n",
        "# Use AUC to evaluate the model on validation\n",
        "# How large is standard deviation of the scores across different folds?\n",
        "\n",
        "# 0.0001\n",
        "# 0.006\n",
        "# 0.06\n",
        "# 0.36\n",
        "# R => 0.06\n",
        "from sklearn.model_selection import KFold\n",
        "from tqdm.auto import tqdm\n",
        "\n",
        "k = 5\n",
        "kfold = KFold(n_splits=k, shuffle=True, random_state=1)\n",
        "scores_k = []\n",
        "\n",
        "for train_idx, val_idx in kfold.split(df_full_train):\n",
        "  df_train = df_full_train.iloc[train_idx]\n",
        "  df_val = df_full_train.iloc[val_idx]\n",
        "\n",
        "  y_train = df_train.converted.values\n",
        "  y_val = df_val.converted.values\n",
        "\n",
        "  dv, model = train(df_train, y_train, c=1.0)\n",
        "  y_pred = predict(df_val, dv, model)\n",
        "\n",
        "   # AUC\n",
        "  auc = roc_auc_score(y_val, y_pred)\n",
        "  scores_k.append(auc)\n",
        "\n",
        "print('C=%s %.3f std %.3f' % (1.0, np.mean(scores_k), np.std(scores_k)))\n",
        "0.0001 - 0.032 , 0.006  - 0.032 ,  0.06  - 0.032 ,  0.36  - 0.032"
      ],
      "metadata": {
        "colab": {
          "base_uri": "https://localhost:8080/"
        },
        "id": "E_q6kuAmuJaD",
        "outputId": "527ec990-e6e4-4050-de74-bbc51cab733a"
      },
      "execution_count": 81,
      "outputs": [
        {
          "output_type": "stream",
          "name": "stdout",
          "text": [
            "C=1.0 0.876 std 0.032\n"
          ]
        },
        {
          "output_type": "execute_result",
          "data": {
            "text/plain": [
              "(-0.0319, -0.026000000000000002, 0.027999999999999997, 0.32799999999999996)"
            ]
          },
          "metadata": {},
          "execution_count": 81
        }
      ]
    },
    {
      "cell_type": "code",
      "source": [
        "!pip install tqdm"
      ],
      "metadata": {
        "id": "0q7wKXnRvQVY",
        "colab": {
          "base_uri": "https://localhost:8080/"
        },
        "outputId": "3924f5c0-3b00-4a5d-db7d-c98ec2e80b89"
      },
      "execution_count": 76,
      "outputs": [
        {
          "output_type": "stream",
          "name": "stdout",
          "text": [
            "Requirement already satisfied: tqdm in /usr/local/lib/python3.12/dist-packages (4.67.1)\n"
          ]
        }
      ]
    },
    {
      "cell_type": "code",
      "source": [
        "# Question 6: Hyperparameter Tuning\n",
        "# Now let's use 5-Fold cross-validation to find the best parameter C\n",
        "\n",
        "# Iterate over the following C values: [0.000001, 0.001, 1]\n",
        "# Initialize KFold with the same parameters as previously\n",
        "# Use these parameters for the model: LogisticRegression(solver='liblinear', C=C, max_iter=1000)\n",
        "# Compute the mean score as well as the std (round the mean and std to 3 decimal digits)\n",
        "# Which C leads to the best mean score?\n",
        "\n",
        "# 0.000001\n",
        "# 0.001\n",
        "# 1\n",
        "# If you have ties, select the score with the lowest std. If you still have ties, select the smallest C.\n",
        "# R => 0.001\n",
        "from sklearn.model_selection import KFold\n",
        "from tqdm.auto import tqdm\n",
        "\n",
        "k = 5\n",
        "\n",
        "for c in tqdm([0.000001, 0.001, 1]):\n",
        "    kfold = KFold(n_splits=k, shuffle=True, random_state=1)\n",
        "\n",
        "    scores_kc = []\n",
        "\n",
        "    for train_idx, val_idx in kfold.split(df_full_train):\n",
        "        df_train = df_full_train.iloc[train_idx]\n",
        "        df_val = df_full_train.iloc[val_idx]\n",
        "\n",
        "        y_train = df_train.converted.values\n",
        "        y_val = df_val.converted.values\n",
        "\n",
        "        # training and predicting\n",
        "        dv, model = train(df_train, y_train, c=c)\n",
        "        y_pred = predict(df_val, dv, model)\n",
        "\n",
        "        # AUC\n",
        "        auc = roc_auc_score(y_val, y_pred)\n",
        "        scores_kc.append(auc)\n",
        "\n",
        "    print('C=%s %.3f  %.3f' % (c, np.mean(scores_kc), np.std(scores_kc)))"
      ],
      "metadata": {
        "id": "1LjSWPuivQ1H",
        "colab": {
          "base_uri": "https://localhost:8080/",
          "height": 104,
          "referenced_widgets": [
            "36fca6e65b574584a2b244f16051a355",
            "71a21baa538840eda270f3790ea81fee",
            "99dfea78ae8a4551a0c8571c61996453",
            "eb536c203e9d43b0ba50cf444607fbee",
            "3d14f30b3de74b11ae27123c6edbea86",
            "aa18d879181c4aa69c78084034894e59",
            "529df44288044fa68f6b1962d5c6b5ad",
            "55af27883a524f3bb1ea45694a0f5a8b",
            "0de8282d5c474b88a0a3035b8bbe5936",
            "566f9f21b105471b8c7d4d514b1adad1",
            "8ab4e50ae1f84befbb3fa747be7dee9e"
          ]
        },
        "outputId": "3e59441b-4abf-4db8-c69f-ee9dcb831b53"
      },
      "execution_count": 83,
      "outputs": [
        {
          "output_type": "display_data",
          "data": {
            "text/plain": [
              "  0%|          | 0/3 [00:00<?, ?it/s]"
            ],
            "application/vnd.jupyter.widget-view+json": {
              "version_major": 2,
              "version_minor": 0,
              "model_id": "36fca6e65b574584a2b244f16051a355"
            }
          },
          "metadata": {}
        },
        {
          "output_type": "stream",
          "name": "stdout",
          "text": [
            "C=1e-06 0.561  0.024\n",
            "C=0.001 0.926  0.018\n",
            "C=1 0.876  0.032\n"
          ]
        }
      ]
    }
  ]
}